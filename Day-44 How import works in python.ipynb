{
 "cells": [
  {
   "cell_type": "markdown",
   "id": "b20937a9",
   "metadata": {},
   "source": [
    "# How importing in python works\n",
    "Importing in Python is the process of loading code from a Python module into the current script. This allows you to use the functions and variables defined in the module in your current script, as well as any additional modules that the imported module may depend on.\n",
    "\n",
    "To import a module in Python, you use the import statement followed by the name of the module. For example, to import the math module, which contains a variety of mathematical functions, you would use the following statement:"
   ]
  },
  {
   "cell_type": "code",
   "execution_count": 1,
   "id": "0490124e",
   "metadata": {},
   "outputs": [],
   "source": [
    "import math"
   ]
  },
  {
   "cell_type": "raw",
   "id": "360a88a8",
   "metadata": {},
   "source": [
    "Once a module is imported, you can use any of the functions and variables defined in the module by using the dot notation. For example, to use the sqrt function from the math module, you would write:"
   ]
  },
  {
   "cell_type": "code",
   "execution_count": 2,
   "id": "fba2caff",
   "metadata": {},
   "outputs": [
    {
     "name": "stdout",
     "output_type": "stream",
     "text": [
      "3.0\n"
     ]
    }
   ],
   "source": [
    "import math\n",
    "\n",
    "result = math.sqrt(9)\n",
    "print(result)  # Output: 3.0"
   ]
  },
  {
   "cell_type": "markdown",
   "id": "b8a9b904",
   "metadata": {},
   "source": [
    "# from keyword\n",
    "You can also import specific functions or variables from a module using the from keyword. For example, to import only the sqrt function from the math module, you would write:"
   ]
  },
  {
   "cell_type": "code",
   "execution_count": 3,
   "id": "110baf3e",
   "metadata": {},
   "outputs": [
    {
     "name": "stdout",
     "output_type": "stream",
     "text": [
      "3.0\n"
     ]
    }
   ],
   "source": [
    "from math import sqrt\n",
    "\n",
    "result = sqrt(9)\n",
    "print(result)  # Output: 3.0"
   ]
  },
  {
   "cell_type": "code",
   "execution_count": 4,
   "id": "d100a9f4",
   "metadata": {},
   "outputs": [
    {
     "name": "stdout",
     "output_type": "stream",
     "text": [
      "9.42477796076938\n"
     ]
    }
   ],
   "source": [
    "from math import sqrt,pi\n",
    "\n",
    "result = sqrt(9)*pi\n",
    "print(result)  "
   ]
  },
  {
   "cell_type": "code",
   "execution_count": 5,
   "id": "825c3c8b",
   "metadata": {},
   "outputs": [
    {
     "name": "stdout",
     "output_type": "stream",
     "text": [
      "3.0\n",
      "3.141592653589793\n"
     ]
    }
   ],
   "source": [
    "from math import sqrt, pi\n",
    "\n",
    "result = sqrt(9)\n",
    "print(result)  # Output: 3.0\n",
    "\n",
    "print(pi)  # Output: 3.141592653589793"
   ]
  },
  {
   "cell_type": "markdown",
   "id": "4bfa30e0",
   "metadata": {},
   "source": [
    "# importing everything\n",
    "It's also possible to import all functions and variables from a module using the * wildcard. However, this is generally not recommended as it can lead to confusion and make it harder to understand where specific functions and variables are coming from."
   ]
  },
  {
   "cell_type": "code",
   "execution_count": 6,
   "id": "26bccbc8",
   "metadata": {},
   "outputs": [
    {
     "name": "stdout",
     "output_type": "stream",
     "text": [
      "3.0\n",
      "3.141592653589793\n"
     ]
    }
   ],
   "source": [
    "from math import *\n",
    "\n",
    "result = sqrt(9)\n",
    "print(result)  # Output: 3.0\n",
    "\n",
    "print(pi)  # Output: 3.141592653589793"
   ]
  },
  {
   "cell_type": "raw",
   "id": "8c84b0c5",
   "metadata": {},
   "source": [
    "Python also allows you to rename imported modules using the as keyword. This can be useful if you want to use a shorter or more descriptive name for a module, or if you want to avoid naming conflicts with other modules or variables in your code."
   ]
  },
  {
   "cell_type": "markdown",
   "id": "e722d8e7",
   "metadata": {},
   "source": [
    "# The \"as\" keyword"
   ]
  },
  {
   "cell_type": "code",
   "execution_count": 7,
   "id": "f3451d2f",
   "metadata": {},
   "outputs": [
    {
     "name": "stdout",
     "output_type": "stream",
     "text": [
      "3.0\n",
      "3.141592653589793\n"
     ]
    }
   ],
   "source": [
    "import math as m\n",
    "\n",
    "result = m.sqrt(9)\n",
    "print(result)  # Output: 3.0\n",
    "\n",
    "print(m.pi)  # Output: 3.141592653589793"
   ]
  },
  {
   "cell_type": "markdown",
   "id": "5ee75fb2",
   "metadata": {},
   "source": [
    "# The dir function\n",
    "Finally, Python has a built-in function called dir that you can use to view the names of all the functions and variables defined in a module. This can be helpful for exploring and understanding the contents of a new module."
   ]
  },
  {
   "cell_type": "code",
   "execution_count": 8,
   "id": "f9d9deb1",
   "metadata": {},
   "outputs": [
    {
     "name": "stdout",
     "output_type": "stream",
     "text": [
      "['__doc__', '__loader__', '__name__', '__package__', '__spec__', 'acos', 'acosh', 'asin', 'asinh', 'atan', 'atan2', 'atanh', 'ceil', 'comb', 'copysign', 'cos', 'cosh', 'degrees', 'dist', 'e', 'erf', 'erfc', 'exp', 'expm1', 'fabs', 'factorial', 'floor', 'fmod', 'frexp', 'fsum', 'gamma', 'gcd', 'hypot', 'inf', 'isclose', 'isfinite', 'isinf', 'isnan', 'isqrt', 'lcm', 'ldexp', 'lgamma', 'log', 'log10', 'log1p', 'log2', 'modf', 'nan', 'nextafter', 'perm', 'pi', 'pow', 'prod', 'radians', 'remainder', 'sin', 'sinh', 'sqrt', 'tan', 'tanh', 'tau', 'trunc', 'ulp']\n"
     ]
    }
   ],
   "source": [
    "import math\n",
    "\n",
    "print(dir(math))"
   ]
  },
  {
   "cell_type": "raw",
   "id": "33ed2691",
   "metadata": {},
   "source": [
    "This will output a list of all the names defined in the math module, including functions like sqrt and pi, as well as other variables and constants.\n",
    "\n",
    "In summary, the import statement in Python allows you to access the functions and variables defined in a module from within your current script. You can import the entire module, specific functions or variables, or use the * wildcard to import everything. You can also use the as keyword to rename a module, and the dir function to view the contents of a module."
   ]
  },
  {
   "cell_type": "raw",
   "id": "0415adf6",
   "metadata": {},
   "source": [
    "# from math import sqrt, pi\n",
    "# from math import pi, sqrt as s\n",
    "# import math as math_builtin_python\n",
    "\n",
    "# result = math_builtin_python.sqrt(9) * math_builtin_python.pi\n",
    "# print(result)  # Output: 3.0\n",
    "\n",
    "# from harry import welcome, harry\n",
    "import harry as hr\n",
    "import math\n",
    "\n",
    "print(dir(math))\n",
    "print(math.nan, type(math.nan))\n",
    "hr.welcome()\n",
    "print(hr.harry)"
   ]
  }
 ],
 "metadata": {
  "kernelspec": {
   "display_name": "Python 3 (ipykernel)",
   "language": "python",
   "name": "python3"
  },
  "language_info": {
   "codemirror_mode": {
    "name": "ipython",
    "version": 3
   },
   "file_extension": ".py",
   "mimetype": "text/x-python",
   "name": "python",
   "nbconvert_exporter": "python",
   "pygments_lexer": "ipython3",
   "version": "3.9.13"
  }
 },
 "nbformat": 4,
 "nbformat_minor": 5
}
