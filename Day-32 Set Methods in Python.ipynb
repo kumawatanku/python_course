{
 "cells": [
  {
   "cell_type": "markdown",
   "id": "47e2c705",
   "metadata": {},
   "source": [
    "# Joining Sets\n",
    "Sets in python more or less work in the same way as sets in mathematics. We can perform operations like union and intersection on the sets just like in mathematics."
   ]
  },
  {
   "cell_type": "markdown",
   "id": "da847398",
   "metadata": {},
   "source": [
    "# I. union() and update():\n",
    "The union() and update() methods prints all items that are present in the two sets. The union() method returns a new set whereas update() method adds item into the existing set from another set."
   ]
  },
  {
   "cell_type": "code",
   "execution_count": 1,
   "id": "57191352",
   "metadata": {},
   "outputs": [
    {
     "name": "stdout",
     "output_type": "stream",
     "text": [
      "{1, 2, 3, 4, 5, 6, 7, 8}\n"
     ]
    }
   ],
   "source": [
    "s1={2,4,5,6}\n",
    "s2={3,2,1,6,7,8}\n",
    "print(s1.union(s2))"
   ]
  },
  {
   "cell_type": "code",
   "execution_count": 2,
   "id": "efbedd09",
   "metadata": {},
   "outputs": [
    {
     "name": "stdout",
     "output_type": "stream",
     "text": [
      "{'Delhi', 'Tokyo', 'Seoul', 'Kabul', 'Madrid', 'Berlin'}\n"
     ]
    }
   ],
   "source": [
    "cities = {\"Tokyo\", \"Madrid\", \"Berlin\", \"Delhi\"}\n",
    "cities2 = {\"Tokyo\", \"Seoul\", \"Kabul\", \"Madrid\"}\n",
    "cities3 = cities.union(cities2)\n",
    "print(cities3)"
   ]
  },
  {
   "cell_type": "code",
   "execution_count": 4,
   "id": "18384339",
   "metadata": {},
   "outputs": [
    {
     "name": "stdout",
     "output_type": "stream",
     "text": [
      "{1, 2, 3, 4, 5, 6, 7, 8}\n",
      "{1, 2, 3, 6, 7, 8}\n"
     ]
    }
   ],
   "source": [
    "s1={2,4,5,6}\n",
    "s2={3,2,1,6,7,8}\n",
    "s1.update(s2)\n",
    "print(s1)\n",
    "print(s2)"
   ]
  },
  {
   "cell_type": "code",
   "execution_count": 5,
   "id": "f15948f1",
   "metadata": {},
   "outputs": [
    {
     "name": "stdout",
     "output_type": "stream",
     "text": [
      "{'Delhi', 'Tokyo', 'Seoul', 'Kabul', 'Madrid', 'Berlin'}\n"
     ]
    }
   ],
   "source": [
    "cities = {\"Tokyo\", \"Madrid\", \"Berlin\", \"Delhi\"}\n",
    "cities2 = {\"Tokyo\", \"Seoul\", \"Kabul\", \"Madrid\"}\n",
    "cities.update(cities2)\n",
    "print(cities)"
   ]
  },
  {
   "cell_type": "markdown",
   "id": "7b281fc9",
   "metadata": {},
   "source": [
    "# II. intersection and intersection_update():\n",
    "The intersection() and intersection_update() methods prints only items that are similar to both the sets. The intersection() method returns a new set whereas intersection_update() method updates into the existing set from another set."
   ]
  },
  {
   "cell_type": "code",
   "execution_count": 6,
   "id": "6768aa78",
   "metadata": {},
   "outputs": [
    {
     "name": "stdout",
     "output_type": "stream",
     "text": [
      "{'Tokyo', 'Madrid'}\n"
     ]
    }
   ],
   "source": [
    "cities = {\"Tokyo\", \"Madrid\", \"Berlin\", \"Delhi\"}\n",
    "cities2 = {\"Tokyo\", \"Seoul\", \"Kabul\", \"Madrid\"}\n",
    "cities3 = cities.intersection(cities2)\n",
    "print(cities3)"
   ]
  },
  {
   "cell_type": "code",
   "execution_count": 7,
   "id": "1fbb5cc7",
   "metadata": {},
   "outputs": [
    {
     "name": "stdout",
     "output_type": "stream",
     "text": [
      "{'Tokyo', 'Madrid'}\n"
     ]
    }
   ],
   "source": [
    "cities = {\"Tokyo\", \"Madrid\", \"Berlin\", \"Delhi\"}\n",
    "cities2 = {\"Tokyo\", \"Seoul\", \"Kabul\", \"Madrid\"}\n",
    "cities.intersection_update(cities2)\n",
    "print(cities)"
   ]
  },
  {
   "cell_type": "markdown",
   "id": "6442d1ec",
   "metadata": {},
   "source": [
    "# III. symmetric_difference and symmetric_difference_update():\n",
    "The symmetric_difference() and symmetric_difference_update() methods prints only items that are not similar to both the sets. The symmetric_difference() method returns a new set whereas symmetric_difference_update() method updates into the existing set from another set."
   ]
  },
  {
   "cell_type": "code",
   "execution_count": 8,
   "id": "2039e841",
   "metadata": {},
   "outputs": [
    {
     "name": "stdout",
     "output_type": "stream",
     "text": [
      "{'Seoul', 'Delhi', 'Kabul', 'Berlin'}\n"
     ]
    }
   ],
   "source": [
    "cities = {\"Tokyo\", \"Madrid\", \"Berlin\", \"Delhi\"}\n",
    "cities2 = {\"Tokyo\", \"Seoul\", \"Kabul\", \"Madrid\"}\n",
    "cities3 = cities.symmetric_difference(cities2)\n",
    "print(cities3)"
   ]
  },
  {
   "cell_type": "code",
   "execution_count": 9,
   "id": "b40b3ed0",
   "metadata": {},
   "outputs": [
    {
     "name": "stdout",
     "output_type": "stream",
     "text": [
      "{'Delhi', 'Seoul', 'Kabul', 'Berlin'}\n"
     ]
    }
   ],
   "source": [
    "cities = {\"Tokyo\", \"Madrid\", \"Berlin\", \"Delhi\"}\n",
    "cities2 = {\"Tokyo\", \"Seoul\", \"Kabul\", \"Madrid\"}\n",
    "cities.symmetric_difference_update(cities2)\n",
    "print(cities)"
   ]
  },
  {
   "cell_type": "markdown",
   "id": "7675959d",
   "metadata": {},
   "source": [
    "# IV. difference() and difference_update():\n",
    "The difference() and difference_update() methods prints only items that are only present in the original set and not in both the sets. The difference() method returns a new set whereas difference_update() method updates into the existing set from another set."
   ]
  },
  {
   "cell_type": "code",
   "execution_count": 10,
   "id": "3d714116",
   "metadata": {},
   "outputs": [
    {
     "name": "stdout",
     "output_type": "stream",
     "text": [
      "{'Tokyo', 'Madrid', 'Berlin'}\n"
     ]
    }
   ],
   "source": [
    "cities = {\"Tokyo\", \"Madrid\", \"Berlin\", \"Delhi\"}\n",
    "cities2 = {\"Seoul\", \"Kabul\", \"Delhi\"}\n",
    "cities3 = cities.difference(cities2)\n",
    "print(cities3)"
   ]
  },
  {
   "cell_type": "code",
   "execution_count": 11,
   "id": "c6d4ac40",
   "metadata": {},
   "outputs": [
    {
     "name": "stdout",
     "output_type": "stream",
     "text": [
      "{'Tokyo', 'Madrid', 'Berlin'}\n"
     ]
    }
   ],
   "source": [
    "cities = {\"Tokyo\", \"Madrid\", \"Berlin\", \"Delhi\"}\n",
    "cities2 = {\"Seoul\", \"Kabul\", \"Delhi\"}\n",
    "print(cities.difference(cities2))"
   ]
  },
  {
   "cell_type": "markdown",
   "id": "367e6f5b",
   "metadata": {},
   "source": [
    "# Set Methods\n",
    "There are several in-built methods used for the manipulation of set.They are explained below"
   ]
  },
  {
   "cell_type": "markdown",
   "id": "42a8dcc2",
   "metadata": {},
   "source": [
    "# isdisjoint():\n",
    "The isdisjoint() method checks if items of given set are present in another set. This method returns False if items are present, else it returns True."
   ]
  },
  {
   "cell_type": "code",
   "execution_count": 12,
   "id": "b6d77572",
   "metadata": {},
   "outputs": [
    {
     "name": "stdout",
     "output_type": "stream",
     "text": [
      "False\n"
     ]
    }
   ],
   "source": [
    "cities = {\"Tokyo\", \"Madrid\", \"Berlin\", \"Delhi\"}\n",
    "cities2 = {\"Tokyo\", \"Seoul\", \"Kabul\", \"Madrid\"}\n",
    "print(cities.isdisjoint(cities2))"
   ]
  },
  {
   "cell_type": "markdown",
   "id": "47f6246f",
   "metadata": {},
   "source": [
    "# issuperset():\n",
    "The issuperset() method checks if all the items of a particular set are present in the o"
   ]
  },
  {
   "cell_type": "code",
   "execution_count": 13,
   "id": "4e181370",
   "metadata": {},
   "outputs": [
    {
     "name": "stdout",
     "output_type": "stream",
     "text": [
      "False\n",
      "False\n"
     ]
    }
   ],
   "source": [
    "cities = {\"Tokyo\", \"Madrid\", \"Berlin\", \"Delhi\"}\n",
    "cities2 = {\"Seoul\", \"Kabul\"}\n",
    "print(cities.issuperset(cities2))\n",
    "cities3 = {\"Seoul\", \"Madrid\",\"Kabul\"}\n",
    "print(cities.issuperset(cities3))"
   ]
  },
  {
   "cell_type": "markdown",
   "id": "14e74b45",
   "metadata": {},
   "source": [
    "# issubset():\n",
    "The issubset() method checks if all the items of the original set are present in the particular set. It returns True if all the items are present, else it returns False."
   ]
  },
  {
   "cell_type": "code",
   "execution_count": 14,
   "id": "d43a07c2",
   "metadata": {},
   "outputs": [
    {
     "name": "stdout",
     "output_type": "stream",
     "text": [
      "True\n"
     ]
    }
   ],
   "source": [
    "cities = {\"Tokyo\", \"Madrid\", \"Berlin\", \"Delhi\"}\n",
    "cities2 = {\"Delhi\", \"Madrid\"}\n",
    "print(cities2.issubset(cities))"
   ]
  },
  {
   "cell_type": "markdown",
   "id": "72fc0b4a",
   "metadata": {},
   "source": [
    "# add()\n",
    "If you want to add a single item to the set use the add() method."
   ]
  },
  {
   "cell_type": "code",
   "execution_count": 15,
   "id": "83ce3ee3",
   "metadata": {},
   "outputs": [
    {
     "name": "stdout",
     "output_type": "stream",
     "text": [
      "{'Helsinki', 'Delhi', 'Tokyo', 'Madrid', 'Berlin'}\n"
     ]
    }
   ],
   "source": [
    "cities = {\"Tokyo\", \"Madrid\", \"Berlin\", \"Delhi\"}\n",
    "cities.add(\"Helsinki\")\n",
    "print(cities)"
   ]
  },
  {
   "cell_type": "markdown",
   "id": "6e65ac98",
   "metadata": {},
   "source": [
    "# update()\n",
    "If you want to add more than one item, simply create another set or any other iterable object(list, tuple, dictionary), and use the update() method to add it into the existing set."
   ]
  },
  {
   "cell_type": "code",
   "execution_count": 16,
   "id": "d1415ce2",
   "metadata": {},
   "outputs": [
    {
     "name": "stdout",
     "output_type": "stream",
     "text": [
      "{'Helsinki', 'Seoul', 'Delhi', 'Tokyo', 'Warsaw', 'Madrid', 'Berlin'}\n"
     ]
    }
   ],
   "source": [
    "cities = {\"Tokyo\", \"Madrid\", \"Berlin\", \"Delhi\"}\n",
    "cities2 = {\"Helsinki\", \"Warsaw\", \"Seoul\"}\n",
    "cities.update(cities2)\n",
    "print(cities)"
   ]
  },
  {
   "cell_type": "markdown",
   "id": "4326041d",
   "metadata": {},
   "source": [
    "# remove()/discard()\n",
    "We can use remove() and discard() methods to remove items form list."
   ]
  },
  {
   "cell_type": "code",
   "execution_count": 17,
   "id": "ed89b389",
   "metadata": {},
   "outputs": [
    {
     "name": "stdout",
     "output_type": "stream",
     "text": [
      "{'Madrid', 'Berlin', 'Delhi'}\n"
     ]
    }
   ],
   "source": [
    "cities = {\"Tokyo\", \"Madrid\", \"Berlin\", \"Delhi\"}\n",
    "cities.remove(\"Tokyo\")\n",
    "print(cities)"
   ]
  },
  {
   "cell_type": "raw",
   "id": "d9821ea8",
   "metadata": {},
   "source": [
    "The main difference between remove and discard is that, if we try to delete an item which is not present in set, then remove() raises an error, whereas discard() does not raise any error."
   ]
  },
  {
   "cell_type": "code",
   "execution_count": 18,
   "id": "0bf5af18",
   "metadata": {},
   "outputs": [
    {
     "ename": "KeyError",
     "evalue": "'Seoul'",
     "output_type": "error",
     "traceback": [
      "\u001b[1;31m---------------------------------------------------------------------------\u001b[0m",
      "\u001b[1;31mKeyError\u001b[0m                                  Traceback (most recent call last)",
      "\u001b[1;32m~\\AppData\\Local\\Temp\\ipykernel_9684\\4164313100.py\u001b[0m in \u001b[0;36m<module>\u001b[1;34m\u001b[0m\n\u001b[0;32m      1\u001b[0m \u001b[0mcities\u001b[0m \u001b[1;33m=\u001b[0m \u001b[1;33m{\u001b[0m\u001b[1;34m\"Tokyo\"\u001b[0m\u001b[1;33m,\u001b[0m \u001b[1;34m\"Madrid\"\u001b[0m\u001b[1;33m,\u001b[0m \u001b[1;34m\"Berlin\"\u001b[0m\u001b[1;33m,\u001b[0m \u001b[1;34m\"Delhi\"\u001b[0m\u001b[1;33m}\u001b[0m\u001b[1;33m\u001b[0m\u001b[1;33m\u001b[0m\u001b[0m\n\u001b[1;32m----> 2\u001b[1;33m \u001b[0mcities\u001b[0m\u001b[1;33m.\u001b[0m\u001b[0mremove\u001b[0m\u001b[1;33m(\u001b[0m\u001b[1;34m\"Seoul\"\u001b[0m\u001b[1;33m)\u001b[0m\u001b[1;33m\u001b[0m\u001b[1;33m\u001b[0m\u001b[0m\n\u001b[0m\u001b[0;32m      3\u001b[0m \u001b[0mprint\u001b[0m\u001b[1;33m(\u001b[0m\u001b[0mcities\u001b[0m\u001b[1;33m)\u001b[0m\u001b[1;33m\u001b[0m\u001b[1;33m\u001b[0m\u001b[0m\n",
      "\u001b[1;31mKeyError\u001b[0m: 'Seoul'"
     ]
    }
   ],
   "source": [
    "cities = {\"Tokyo\", \"Madrid\", \"Berlin\", \"Delhi\"}\n",
    "cities.remove(\"Seoul\")\n",
    "print(cities)"
   ]
  },
  {
   "cell_type": "code",
   "execution_count": 19,
   "id": "2a3bb895",
   "metadata": {},
   "outputs": [
    {
     "name": "stdout",
     "output_type": "stream",
     "text": [
      "{'Tokyo', 'Madrid', 'Berlin', 'Delhi'}\n"
     ]
    }
   ],
   "source": [
    "cities = {\"Tokyo\", \"Madrid\", \"Berlin\", \"Delhi\"}\n",
    "cities.discard(\"Seoul\")\n",
    "print(cities)"
   ]
  },
  {
   "cell_type": "markdown",
   "id": "e6044521",
   "metadata": {},
   "source": [
    "# pop()\n",
    "This method removes the last item of the set but the catch is that we don’t know which item gets popped as sets are unordered. However, you can access the popped item if you assign the pop() method to a variable."
   ]
  },
  {
   "cell_type": "code",
   "execution_count": 20,
   "id": "4db3fab8",
   "metadata": {},
   "outputs": [
    {
     "name": "stdout",
     "output_type": "stream",
     "text": [
      "{'Madrid', 'Berlin', 'Delhi'}\n",
      "Tokyo\n"
     ]
    }
   ],
   "source": [
    "cities = {\"Tokyo\", \"Madrid\", \"Berlin\", \"Delhi\"}\n",
    "item = cities.pop()\n",
    "print(cities)\n",
    "print(item)"
   ]
  },
  {
   "cell_type": "markdown",
   "id": "dabefdae",
   "metadata": {},
   "source": [
    "# del\n",
    "del is not a method, rather it is a keyword which deletes the set entirely."
   ]
  },
  {
   "cell_type": "code",
   "execution_count": 21,
   "id": "6b72f52f",
   "metadata": {},
   "outputs": [
    {
     "ename": "NameError",
     "evalue": "name 'cities' is not defined",
     "output_type": "error",
     "traceback": [
      "\u001b[1;31m---------------------------------------------------------------------------\u001b[0m",
      "\u001b[1;31mNameError\u001b[0m                                 Traceback (most recent call last)",
      "\u001b[1;32m~\\AppData\\Local\\Temp\\ipykernel_9684\\1711725640.py\u001b[0m in \u001b[0;36m<module>\u001b[1;34m\u001b[0m\n\u001b[0;32m      1\u001b[0m \u001b[0mcities\u001b[0m \u001b[1;33m=\u001b[0m \u001b[1;33m{\u001b[0m\u001b[1;34m\"Tokyo\"\u001b[0m\u001b[1;33m,\u001b[0m \u001b[1;34m\"Madrid\"\u001b[0m\u001b[1;33m,\u001b[0m \u001b[1;34m\"Berlin\"\u001b[0m\u001b[1;33m,\u001b[0m \u001b[1;34m\"Delhi\"\u001b[0m\u001b[1;33m}\u001b[0m\u001b[1;33m\u001b[0m\u001b[1;33m\u001b[0m\u001b[0m\n\u001b[0;32m      2\u001b[0m \u001b[1;32mdel\u001b[0m \u001b[0mcities\u001b[0m\u001b[1;33m\u001b[0m\u001b[1;33m\u001b[0m\u001b[0m\n\u001b[1;32m----> 3\u001b[1;33m \u001b[0mprint\u001b[0m\u001b[1;33m(\u001b[0m\u001b[0mcities\u001b[0m\u001b[1;33m)\u001b[0m\u001b[1;33m\u001b[0m\u001b[1;33m\u001b[0m\u001b[0m\n\u001b[0m",
      "\u001b[1;31mNameError\u001b[0m: name 'cities' is not defined"
     ]
    }
   ],
   "source": [
    "cities = {\"Tokyo\", \"Madrid\", \"Berlin\", \"Delhi\"}\n",
    "del cities\n",
    "print(cities)"
   ]
  },
  {
   "cell_type": "raw",
   "id": "ca6288f3",
   "metadata": {},
   "source": [
    "NameError: name 'cities' is not defined We get an error because our entire set has been deleted and there is no variable called cities which contains a set."
   ]
  },
  {
   "cell_type": "raw",
   "id": "1efe7641",
   "metadata": {},
   "source": [
    "What if we don’t want to delete the entire set, we just want to delete all items within that set?"
   ]
  },
  {
   "cell_type": "markdown",
   "id": "d5b7d662",
   "metadata": {},
   "source": [
    "# clear():\n",
    "This method clears all items in the set and prints an empty set.\n",
    "\n",
    "Example:"
   ]
  },
  {
   "cell_type": "code",
   "execution_count": 22,
   "id": "32232db9",
   "metadata": {},
   "outputs": [
    {
     "name": "stdout",
     "output_type": "stream",
     "text": [
      "set()\n"
     ]
    }
   ],
   "source": [
    "cities = {\"Tokyo\", \"Madrid\", \"Berlin\", \"Delhi\"}\n",
    "cities.clear()\n",
    "print(cities)"
   ]
  },
  {
   "cell_type": "markdown",
   "id": "4dcddf4b",
   "metadata": {},
   "source": [
    "# Check if item exists\n",
    "You can also check if an item exists in the set or not."
   ]
  },
  {
   "cell_type": "code",
   "execution_count": 23,
   "id": "e6397944",
   "metadata": {},
   "outputs": [
    {
     "name": "stdout",
     "output_type": "stream",
     "text": [
      "Carla is present.\n"
     ]
    }
   ],
   "source": [
    "info = {\"Carla\", 19, False, 5.9}\n",
    "if \"Carla\" in info:\n",
    "    print(\"Carla is present.\")\n",
    "else:\n",
    "    print(\"Carla is absent.\")"
   ]
  },
  {
   "cell_type": "code",
   "execution_count": null,
   "id": "d9e165f4",
   "metadata": {},
   "outputs": [],
   "source": []
  },
  {
   "cell_type": "code",
   "execution_count": null,
   "id": "fe033856",
   "metadata": {},
   "outputs": [],
   "source": []
  }
 ],
 "metadata": {
  "kernelspec": {
   "display_name": "Python 3 (ipykernel)",
   "language": "python",
   "name": "python3"
  },
  "language_info": {
   "codemirror_mode": {
    "name": "ipython",
    "version": 3
   },
   "file_extension": ".py",
   "mimetype": "text/x-python",
   "name": "python",
   "nbconvert_exporter": "python",
   "pygments_lexer": "ipython3",
   "version": "3.9.13"
  }
 },
 "nbformat": 4,
 "nbformat_minor": 5
}
