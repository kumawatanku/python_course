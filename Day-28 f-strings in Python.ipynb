{
 "cells": [
  {
   "cell_type": "markdown",
   "id": "aae9e533",
   "metadata": {},
   "source": [
    "# String formatting in python\n",
    "String formatting can be done in python using the format method."
   ]
  },
  {
   "cell_type": "code",
   "execution_count": 1,
   "id": "f2adf051",
   "metadata": {},
   "outputs": [
    {
     "data": {
      "text/plain": [
       "'my name is ankit kumawat and I am from India'"
      ]
     },
     "execution_count": 1,
     "metadata": {},
     "output_type": "execute_result"
    }
   ],
   "source": [
    "letter=\"my name is {} and I am from {}\"\n",
    "name=\"ankit kumawat\"\n",
    "country=\"India\"\n",
    "letter.format(name,country)"
   ]
  },
  {
   "cell_type": "code",
   "execution_count": 3,
   "id": "6208b497",
   "metadata": {},
   "outputs": [
    {
     "name": "stdout",
     "output_type": "stream",
     "text": [
      "my name is ankit kumawat and I am from India\n"
     ]
    }
   ],
   "source": [
    "country=\"India\"\n",
    "name=\"ankit kumawat\"\n",
    "letter=f\"my name is {name} and I am from {country}\"\n",
    "print(letter)"
   ]
  },
  {
   "cell_type": "code",
   "execution_count": 4,
   "id": "ce26a32e",
   "metadata": {},
   "outputs": [
    {
     "data": {
      "text/plain": [
       "'my name is ankit kumawat and I am from India'"
      ]
     },
     "execution_count": 4,
     "metadata": {},
     "output_type": "execute_result"
    }
   ],
   "source": [
    "letter=\"my name is {1} and I am from {0}\"\n",
    "name=\"ankit kumawat\"\n",
    "country=\"India\"\n",
    "letter.format(country,name)"
   ]
  },
  {
   "cell_type": "code",
   "execution_count": 5,
   "id": "180e40f1",
   "metadata": {},
   "outputs": [
    {
     "name": "stdout",
     "output_type": "stream",
     "text": [
      "For only 49.00 dollars!\n"
     ]
    }
   ],
   "source": [
    "txt = \"For only {price:.2f} dollars!\"\n",
    "print(txt.format(price = 49))"
   ]
  },
  {
   "cell_type": "code",
   "execution_count": 6,
   "id": "556d2298",
   "metadata": {},
   "outputs": [
    {
     "name": "stdout",
     "output_type": "stream",
     "text": [
      "for only 49.10\n"
     ]
    }
   ],
   "source": [
    "price=49.09999\n",
    "txt=f\"for only {price:.2f}\"\n",
    "print(txt)"
   ]
  },
  {
   "cell_type": "markdown",
   "id": "b472b188",
   "metadata": {},
   "source": [
    "# f-strings in python\n",
    "It is a new string formatting mechanism introduced by the PEP 498. It is also known as Literal String Interpolation or more commonly as F-strings (f character preceding the string literal). The primary focus of this mechanism is to make the interpolation easier.\n",
    "\n",
    "When we prefix the string with the letter 'f', the string becomes the f-string itself. The f-string can be formatted in much same as the str.format() method. The f-string offers a convenient way to embed Python expression inside string literals for formatting."
   ]
  },
  {
   "cell_type": "code",
   "execution_count": 7,
   "id": "445491d5",
   "metadata": {},
   "outputs": [
    {
     "name": "stdout",
     "output_type": "stream",
     "text": [
      "GeeksforGeeks is a portal for Geeks.\n",
      "Hello, My name is Tushar and I'm 23 years old.\n"
     ]
    }
   ],
   "source": [
    "val = 'Geeks'  \n",
    "print(f\"{val}for{val} is a portal for {val}.\")  \n",
    "name = 'Tushar'  \n",
    "age = 23  \n",
    "print(f\"Hello, My name is {name} and I'm {age} years old.\")"
   ]
  },
  {
   "cell_type": "raw",
   "id": "e2cc3f35",
   "metadata": {},
   "source": [
    "In the above code, we have used the f-string to format the string. It evaluates at runtime; we can put all valid Python expressions in them.\n",
    "\n",
    "We can use it in a single statement as well.\n",
    "\n",
    "Example"
   ]
  },
  {
   "cell_type": "code",
   "execution_count": 8,
   "id": "87dd450f",
   "metadata": {},
   "outputs": [
    {
     "name": "stdout",
     "output_type": "stream",
     "text": [
      "60\n"
     ]
    }
   ],
   "source": [
    "print(f\"{2 * 30}\")"
   ]
  },
  {
   "cell_type": "raw",
   "id": "9743ad8d",
   "metadata": {},
   "source": [
    "letter = \"Hey my name is {1} and I am from {0}\"\n",
    "country = \"India\"\n",
    "name = \"Harry\"\n",
    "\n",
    "print(letter.format(country, name))\n",
    "print(f\"Hey my name is {name} and I am from {country}\")\n",
    "print(f\"We use f-strings like this: Hey my name is {{name}} and I am from {{country}}\")\n",
    "price = 49.09999\n",
    "txt = f\"For only {price:.2f} dollars!\"\n",
    "print(txt)\n",
    "# print(txt.format())\n",
    "print(type(f\"{2 * 30}\"))\n"
   ]
  },
  {
   "cell_type": "code",
   "execution_count": null,
   "id": "89c01884",
   "metadata": {},
   "outputs": [],
   "source": []
  }
 ],
 "metadata": {
  "kernelspec": {
   "display_name": "Python 3 (ipykernel)",
   "language": "python",
   "name": "python3"
  },
  "language_info": {
   "codemirror_mode": {
    "name": "ipython",
    "version": 3
   },
   "file_extension": ".py",
   "mimetype": "text/x-python",
   "name": "python",
   "nbconvert_exporter": "python",
   "pygments_lexer": "ipython3",
   "version": "3.9.13"
  }
 },
 "nbformat": 4,
 "nbformat_minor": 5
}
