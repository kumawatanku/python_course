{
 "cells": [
  {
   "cell_type": "markdown",
   "id": "834c2f29",
   "metadata": {},
   "source": [
    "# Python Tuples\n",
    "Tuples are ordered collection of data items. They store multiple items in a single variable. Tuple items are separated by commas and enclosed within round brackets (). Tuples are unchangeable meaning we can not alter them after creation."
   ]
  },
  {
   "cell_type": "code",
   "execution_count": 1,
   "id": "ceec71b8",
   "metadata": {},
   "outputs": [
    {
     "name": "stdout",
     "output_type": "stream",
     "text": [
      "<class 'int'>\n"
     ]
    }
   ],
   "source": [
    "tup=(1)\n",
    "print(type(tup))"
   ]
  },
  {
   "cell_type": "code",
   "execution_count": 2,
   "id": "c9972c1f",
   "metadata": {},
   "outputs": [
    {
     "name": "stdout",
     "output_type": "stream",
     "text": [
      "<class 'tuple'>\n"
     ]
    }
   ],
   "source": [
    "tup=(1,)\n",
    "print(type(tup))"
   ]
  },
  {
   "cell_type": "code",
   "execution_count": 3,
   "id": "49e952e7",
   "metadata": {},
   "outputs": [
    {
     "name": "stdout",
     "output_type": "stream",
     "text": [
      "(1, 2, 2, 3, 5, 4, 6)\n",
      "('Red', 'Green', 'Blue')\n"
     ]
    }
   ],
   "source": [
    "tuple1 = (1,2,2,3,5,4,6)\n",
    "tuple2 = (\"Red\", \"Green\", \"Blue\")\n",
    "print(tuple1)\n",
    "print(tuple2)"
   ]
  },
  {
   "cell_type": "code",
   "execution_count": 4,
   "id": "e7b896c3",
   "metadata": {},
   "outputs": [
    {
     "name": "stdout",
     "output_type": "stream",
     "text": [
      "('Abhijeet', 18, 'FYBScIT', 9.8)\n"
     ]
    }
   ],
   "source": [
    "details = (\"Abhijeet\", 18, \"FYBScIT\", 9.8)\n",
    "print(details)"
   ]
  },
  {
   "cell_type": "markdown",
   "id": "780524ee",
   "metadata": {},
   "source": [
    "# Tuple Indexes\n",
    "Each item/element in a tuple has its own unique index. This index can be used to access any particular item from the tuple. The first item has index [0], second item has index [1], third item has index [2] and so on."
   ]
  },
  {
   "cell_type": "raw",
   "id": "65d731d3",
   "metadata": {},
   "source": [
    "country = (\"Spain\", \"Italy\", \"India\",)\n",
    "#            [0]      [1]      [2]"
   ]
  },
  {
   "cell_type": "markdown",
   "id": "18de5605",
   "metadata": {},
   "source": [
    "# Accessing tuple items:"
   ]
  },
  {
   "cell_type": "markdown",
   "id": "f7071fe1",
   "metadata": {},
   "source": [
    "# I. Positive Indexing:\n",
    "As we have seen that tuple items have index, as such we can access items using these indexes."
   ]
  },
  {
   "cell_type": "code",
   "execution_count": 6,
   "id": "69e583b7",
   "metadata": {},
   "outputs": [
    {
     "name": "stdout",
     "output_type": "stream",
     "text": [
      "Spain\n",
      "Italy\n",
      "India\n"
     ]
    }
   ],
   "source": [
    "country = (\"Spain\", \"Italy\", \"India\",)\n",
    "#            [0]      [1]      [2]     \n",
    "print(country[0])\n",
    "print(country[1])\n",
    "print(country[2])"
   ]
  },
  {
   "cell_type": "markdown",
   "id": "b90df52d",
   "metadata": {},
   "source": [
    "# II. Negative Indexing:\n",
    "Similar to positive indexing, negative indexing is also used to access items, but from the end of the tuple. The last item has index [-1], second last item has index [-2], third last item has index [-3] and so on."
   ]
  },
  {
   "cell_type": "code",
   "execution_count": 8,
   "id": "b3e60919",
   "metadata": {},
   "outputs": [
    {
     "name": "stdout",
     "output_type": "stream",
     "text": [
      "Germany\n",
      "India\n",
      "Italy\n"
     ]
    }
   ],
   "source": [
    "country = (\"Spain\", \"Italy\", \"India\", \"England\", \"Germany\")\n",
    "#            [-5]      [-4]      [-3]       [-2]        [-1]\n",
    "print(country[-1]) # Similar to print(country[len(country) - 1])\n",
    "print(country[-3])\n",
    "print(country[-4])"
   ]
  },
  {
   "cell_type": "markdown",
   "id": "4b0d443b",
   "metadata": {},
   "source": [
    "# III. Check for item:\n",
    "We can check if a given item is present in the tuple. This is done using the in keyword."
   ]
  },
  {
   "cell_type": "code",
   "execution_count": 9,
   "id": "66c9f203",
   "metadata": {},
   "outputs": [
    {
     "name": "stdout",
     "output_type": "stream",
     "text": [
      "yes ankit is present in tup\n"
     ]
    }
   ],
   "source": [
    "tup=(4,5,6,34,23,45,334,\"ankit\")\n",
    "if \"ankit\" in tup:\n",
    "    print(\"yes ankit is present in tup\")"
   ]
  },
  {
   "cell_type": "code",
   "execution_count": 11,
   "id": "b740f09f",
   "metadata": {},
   "outputs": [
    {
     "name": "stdout",
     "output_type": "stream",
     "text": [
      "no\n"
     ]
    }
   ],
   "source": [
    "tup=(4,5,6,34,23,45,334,\"ankit\")\n",
    "if \"ankit1\" in tup:\n",
    "    print(\"yes ankit is present in tup\")\n",
    "else:\n",
    "    print(\"no\")"
   ]
  },
  {
   "cell_type": "code",
   "execution_count": 12,
   "id": "1ab99ad3",
   "metadata": {},
   "outputs": [
    {
     "name": "stdout",
     "output_type": "stream",
     "text": [
      "Germany is present.\n"
     ]
    }
   ],
   "source": [
    "country = (\"Spain\", \"Italy\", \"India\", \"England\", \"Germany\")\n",
    "if \"Germany\" in country:\n",
    "    print(\"Germany is present.\")\n",
    "else:\n",
    "    print(\"Germany is absent.\")"
   ]
  },
  {
   "cell_type": "code",
   "execution_count": 13,
   "id": "67a6c16a",
   "metadata": {},
   "outputs": [
    {
     "name": "stdout",
     "output_type": "stream",
     "text": [
      "Russia is absent.\n"
     ]
    }
   ],
   "source": [
    "country = (\"Spain\", \"Italy\", \"India\", \"England\", \"Germany\")\n",
    "if \"Russia\" in country:\n",
    "    print(\"Russia is present.\")\n",
    "else:\n",
    "    print(\"Russia is absent.\")"
   ]
  },
  {
   "cell_type": "markdown",
   "id": "26ab9037",
   "metadata": {},
   "source": [
    "# IV. Range of Index:\n",
    "You can print a range of tuple items by specifying where do you want to start, where do you want to end and if you want to skip elements in between the range."
   ]
  },
  {
   "cell_type": "markdown",
   "id": "6dee5ecf",
   "metadata": {},
   "source": [
    "# Tuple[start : end : jumpIndex]"
   ]
  },
  {
   "cell_type": "raw",
   "id": "1939868a",
   "metadata": {},
   "source": [
    "Note: jump Index is optional. We will see this in given examples."
   ]
  },
  {
   "cell_type": "code",
   "execution_count": 14,
   "id": "f1ae393e",
   "metadata": {},
   "outputs": [
    {
     "name": "stdout",
     "output_type": "stream",
     "text": [
      "('mouse', 'pig', 'horse', 'donkey')\n",
      "('bat', 'mouse', 'pig', 'horse', 'donkey')\n"
     ]
    }
   ],
   "source": [
    "animals = (\"cat\", \"dog\", \"bat\", \"mouse\", \"pig\", \"horse\", \"donkey\", \"goat\", \"cow\")\n",
    "print(animals[3:7])     #using positive indexes\n",
    "print(animals[-7:-2])   #using negative indexes"
   ]
  },
  {
   "cell_type": "raw",
   "id": "11733e05",
   "metadata": {},
   "source": [
    "Here, we provide index of the element from where we want to start and the index of the element till which we want to print the values. Note: The element of the end index provided will not be included."
   ]
  },
  {
   "cell_type": "markdown",
   "id": "a7e6cabe",
   "metadata": {},
   "source": [
    "# Example: Printing all element from a given index till the end"
   ]
  },
  {
   "cell_type": "code",
   "execution_count": 15,
   "id": "7fbde86c",
   "metadata": {},
   "outputs": [
    {
     "name": "stdout",
     "output_type": "stream",
     "text": [
      "('pig', 'horse', 'donkey', 'goat', 'cow')\n",
      "('horse', 'donkey', 'goat', 'cow')\n"
     ]
    }
   ],
   "source": [
    "animals = (\"cat\", \"dog\", \"bat\", \"mouse\", \"pig\", \"horse\", \"donkey\", \"goat\", \"cow\")\n",
    "print(animals[4:])      #using positive indexes\n",
    "print(animals[-4:])     #using negative indexes"
   ]
  },
  {
   "cell_type": "raw",
   "id": "b3f8b8aa",
   "metadata": {},
   "source": [
    "When no end index is provided, the interpreter prints all the values till the end."
   ]
  },
  {
   "cell_type": "markdown",
   "id": "0e13cb67",
   "metadata": {},
   "source": [
    "# Example: printing all elements from start to a given index"
   ]
  },
  {
   "cell_type": "code",
   "execution_count": 16,
   "id": "dc721c54",
   "metadata": {},
   "outputs": [
    {
     "name": "stdout",
     "output_type": "stream",
     "text": [
      "('cat', 'dog', 'bat', 'mouse', 'pig', 'horse')\n",
      "('cat', 'dog', 'bat', 'mouse', 'pig', 'horse')\n"
     ]
    }
   ],
   "source": [
    "animals = (\"cat\", \"dog\", \"bat\", \"mouse\", \"pig\", \"horse\", \"donkey\", \"goat\", \"cow\")\n",
    "print(animals[:6])      #using positive indexes\n",
    "print(animals[:-3])     #using negative indexes"
   ]
  },
  {
   "cell_type": "raw",
   "id": "d7c5636c",
   "metadata": {},
   "source": [
    "When no start index is provided, the interpreter prints all the values from start up to the end index provided."
   ]
  },
  {
   "cell_type": "markdown",
   "id": "d4131f54",
   "metadata": {},
   "source": [
    "# Example: Print alternate values"
   ]
  },
  {
   "cell_type": "code",
   "execution_count": 18,
   "id": "6f0af9d1",
   "metadata": {},
   "outputs": [
    {
     "name": "stdout",
     "output_type": "stream",
     "text": [
      "('cat', 'mouse', 'donkey')\n",
      "('dog', 'mouse', 'horse', 'goat')\n"
     ]
    }
   ],
   "source": [
    "animals = (\"cat\", \"dog\", \"bat\", \"mouse\", \"pig\", \"horse\", \"donkey\", \"goat\", \"cow\")\n",
    "print(animals[::3])     #using positive indexes\n",
    "print(animals[-8:-1:2]) #using negative indexes"
   ]
  },
  {
   "cell_type": "raw",
   "id": "b12b8cd4",
   "metadata": {},
   "source": [
    "Here, we have not provided start and end index, which means all the values will be considered. But as we have provided a jump index of 2 only alternate values will be printed."
   ]
  },
  {
   "cell_type": "markdown",
   "id": "6925c71b",
   "metadata": {},
   "source": [
    "# Example: printing every 3rd consecutive withing given range"
   ]
  },
  {
   "cell_type": "raw",
   "id": "2ae94973",
   "metadata": {},
   "source": [
    "tup = (1, 2, 76, 342, 32, \"green\", True)\n",
    "# tup[0] = 90\n",
    "print(type(tup), tup)\n",
    "print(len(tup))\n",
    "print(tup[0])\n",
    "print(tup[-1])\n",
    "print(tup[2])\n",
    "# print(tup[34])\n",
    "\n",
    "if  3421 in tup:\n",
    "  print(\"Yes 342 is present in this tuple\")\n",
    "tup2 = tup[1:4]\n",
    "print(tup2)"
   ]
  }
 ],
 "metadata": {
  "kernelspec": {
   "display_name": "Python 3 (ipykernel)",
   "language": "python",
   "name": "python3"
  },
  "language_info": {
   "codemirror_mode": {
    "name": "ipython",
    "version": 3
   },
   "file_extension": ".py",
   "mimetype": "text/x-python",
   "name": "python",
   "nbconvert_exporter": "python",
   "pygments_lexer": "ipython3",
   "version": "3.9.13"
  }
 },
 "nbformat": 4,
 "nbformat_minor": 5
}
