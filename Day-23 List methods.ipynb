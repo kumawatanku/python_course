{
 "cells": [
  {
   "cell_type": "markdown",
   "id": "49cf7b74",
   "metadata": {},
   "source": [
    "# List Methods"
   ]
  },
  {
   "cell_type": "code",
   "execution_count": 2,
   "id": "afbfb7ca",
   "metadata": {},
   "outputs": [
    {
     "name": "stdout",
     "output_type": "stream",
     "text": [
      "[1, 2, 3, 4]\n",
      "[1, 2, 3, 4, 'ankit']\n"
     ]
    }
   ],
   "source": [
    "list=[1,2,3,4]\n",
    "print(list)\n",
    "list.append(\"ankit\")\n",
    "print(list)"
   ]
  },
  {
   "cell_type": "markdown",
   "id": "af98b03c",
   "metadata": {},
   "source": [
    "# list.sort()\n",
    "This method sorts the list in ascending order. The original list is updated"
   ]
  },
  {
   "cell_type": "code",
   "execution_count": 3,
   "id": "0b011441",
   "metadata": {},
   "outputs": [
    {
     "name": "stdout",
     "output_type": "stream",
     "text": [
      "['blue', 'green', 'indigo', 'voilet']\n",
      "[1, 1, 2, 2, 2, 3, 4, 5, 6, 7, 8, 9]\n"
     ]
    }
   ],
   "source": [
    "colors = [\"voilet\", \"indigo\", \"blue\", \"green\"]\n",
    "colors.sort()\n",
    "print(colors)\n",
    "\n",
    "num = [4,2,5,3,6,1,2,1,2,8,9,7]\n",
    "num.sort()\n",
    "print(num)"
   ]
  },
  {
   "cell_type": "raw",
   "id": "6fd9f6ca",
   "metadata": {},
   "source": [
    "What if you want to print the list in descending order?\n",
    "We must give reverse=True as a parameter in the sort method."
   ]
  },
  {
   "cell_type": "code",
   "execution_count": 4,
   "id": "f3a092a7",
   "metadata": {},
   "outputs": [
    {
     "name": "stdout",
     "output_type": "stream",
     "text": [
      "['voilet', 'indigo', 'green', 'blue']\n",
      "[9, 8, 7, 6, 5, 4, 3, 2, 2, 2, 1, 1]\n"
     ]
    }
   ],
   "source": [
    "colors = [\"voilet\", \"indigo\", \"blue\", \"green\"]\n",
    "colors.sort(reverse=True)\n",
    "print(colors)\n",
    "num = [4,2,5,3,6,1,2,1,2,8,9,7]\n",
    "num.sort(reverse=True)\n",
    "print(num)"
   ]
  },
  {
   "cell_type": "code",
   "execution_count": 7,
   "id": "d35923ac",
   "metadata": {},
   "outputs": [
    {
     "name": "stdout",
     "output_type": "stream",
     "text": [
      "[2, 3, 3, 5, 5, 23, 32, 34, 56, 65, 435]\n",
      "[435, 65, 56, 34, 32, 23, 5, 5, 3, 3, 2]\n"
     ]
    }
   ],
   "source": [
    "list=[3,56,23,435,32,34,65,3,5,2,5]\n",
    "list.sort()\n",
    "print(list)\n",
    "list.sort(reverse=True)\n",
    "print(list)"
   ]
  },
  {
   "cell_type": "raw",
   "id": "a0637a5b",
   "metadata": {},
   "source": [
    "The reverse parameter is set to False by default.\n",
    "\n",
    "Note: Do not mistake the reverse parameter with the reverse method."
   ]
  },
  {
   "cell_type": "markdown",
   "id": "99570981",
   "metadata": {},
   "source": [
    "# reverse()\n",
    "This method reverses the order of the list."
   ]
  },
  {
   "cell_type": "code",
   "execution_count": 8,
   "id": "8ca67ef9",
   "metadata": {},
   "outputs": [
    {
     "name": "stdout",
     "output_type": "stream",
     "text": [
      "['green', 'blue', 'indigo', 'voilet']\n",
      "[7, 9, 8, 2, 1, 2, 1, 6, 3, 5, 2, 4]\n"
     ]
    }
   ],
   "source": [
    "colors = [\"voilet\", \"indigo\", \"blue\", \"green\"]\n",
    "colors.reverse()\n",
    "print(colors)\n",
    "\n",
    "num = [4,2,5,3,6,1,2,1,2,8,9,7]\n",
    "num.reverse()\n",
    "print(num)"
   ]
  },
  {
   "cell_type": "code",
   "execution_count": 9,
   "id": "efc5850e",
   "metadata": {},
   "outputs": [
    {
     "name": "stdout",
     "output_type": "stream",
     "text": [
      "[5, 2, 5, 3, 65, 34, 32, 435, 23, 56, 3]\n"
     ]
    }
   ],
   "source": [
    "list=[3,56,23,435,32,34,65,3,5,2,5]\n",
    "list.reverse()\n",
    "print(list)"
   ]
  },
  {
   "cell_type": "markdown",
   "id": "b1a8dc18",
   "metadata": {},
   "source": [
    "# index()\n",
    "This method returns the index of the first occurrence of the list item."
   ]
  },
  {
   "cell_type": "code",
   "execution_count": 12,
   "id": "9a51bd72",
   "metadata": {},
   "outputs": [
    {
     "name": "stdout",
     "output_type": "stream",
     "text": [
      "0\n"
     ]
    }
   ],
   "source": [
    "list=[3,56,23,435,32,34,65,3,5,2,5]\n",
    "print(list.index(3))"
   ]
  },
  {
   "cell_type": "code",
   "execution_count": 13,
   "id": "39297130",
   "metadata": {},
   "outputs": [
    {
     "name": "stdout",
     "output_type": "stream",
     "text": [
      "1\n",
      "3\n"
     ]
    }
   ],
   "source": [
    "colors = [\"voilet\", \"green\", \"indigo\", \"blue\", \"green\"]\n",
    "print(colors.index(\"green\"))\n",
    "\n",
    "num = [4,2,5,3,6,1,2,1,3,2,8,9,7]\n",
    "print(num.index(3))"
   ]
  },
  {
   "cell_type": "markdown",
   "id": "041211e5",
   "metadata": {},
   "source": [
    "# count()\n",
    "Returns the count of the number of items with the given value."
   ]
  },
  {
   "cell_type": "code",
   "execution_count": 14,
   "id": "2bdf62f2",
   "metadata": {},
   "outputs": [
    {
     "name": "stdout",
     "output_type": "stream",
     "text": [
      "2\n"
     ]
    }
   ],
   "source": [
    "list=[3,56,23,435,32,34,65,3,5,2,5]\n",
    "print(list.count(3))"
   ]
  },
  {
   "cell_type": "code",
   "execution_count": 16,
   "id": "451942d7",
   "metadata": {},
   "outputs": [
    {
     "name": "stdout",
     "output_type": "stream",
     "text": [
      "2\n",
      "3\n"
     ]
    }
   ],
   "source": [
    "colors = [\"voilet\", \"green\", \"indigo\", \"blue\", \"green\"]\n",
    "print(colors.count(\"green\"))\n",
    "\n",
    "num = [4,2,5,3,6,1,2,1,3,2,8,9,7]\n",
    "print(num.count(2))"
   ]
  },
  {
   "cell_type": "markdown",
   "id": "0f4caa83",
   "metadata": {},
   "source": [
    "# copy()\n",
    "Returns copy of the list. This can be done to perform operations on the list without modifying the original list."
   ]
  },
  {
   "cell_type": "code",
   "execution_count": 20,
   "id": "dc5ab510",
   "metadata": {},
   "outputs": [
    {
     "name": "stdout",
     "output_type": "stream",
     "text": [
      "[0, 56, 23, 435, 32, 34, 65, 3, 5, 2, 5]\n",
      "[0, 56, 23, 435, 32, 34, 65, 3, 5, 2, 5]\n"
     ]
    }
   ],
   "source": [
    "list=[3,56,23,435,32,34,65,3,5,2,5]\n",
    "m=list\n",
    "m[0]=0\n",
    "print(list)\n",
    "print(m)"
   ]
  },
  {
   "cell_type": "code",
   "execution_count": 21,
   "id": "44037d09",
   "metadata": {},
   "outputs": [
    {
     "name": "stdout",
     "output_type": "stream",
     "text": [
      "[3, 56, 23, 435, 32, 34, 65, 3, 5, 2, 5]\n",
      "[0, 56, 23, 435, 32, 34, 65, 3, 5, 2, 5]\n"
     ]
    }
   ],
   "source": [
    "list=[3,56,23,435,32,34,65,3,5,2,5]\n",
    "m=list.copy()\n",
    "m[0]=0\n",
    "print(list)\n",
    "print(m)"
   ]
  },
  {
   "cell_type": "code",
   "execution_count": 22,
   "id": "40f24af6",
   "metadata": {},
   "outputs": [
    {
     "name": "stdout",
     "output_type": "stream",
     "text": [
      "['voilet', 'green', 'indigo', 'blue']\n",
      "['voilet', 'green', 'indigo', 'blue']\n"
     ]
    }
   ],
   "source": [
    "colors = [\"voilet\", \"green\", \"indigo\", \"blue\"]\n",
    "newlist = colors.copy()\n",
    "print(colors)\n",
    "print(newlist)"
   ]
  },
  {
   "cell_type": "markdown",
   "id": "92a2f107",
   "metadata": {},
   "source": [
    "# append():\n",
    "This method appends items to the end of the existing list."
   ]
  },
  {
   "cell_type": "code",
   "execution_count": 23,
   "id": "36a3a2d8",
   "metadata": {},
   "outputs": [
    {
     "name": "stdout",
     "output_type": "stream",
     "text": [
      "[1, 2, 3, 4]\n",
      "[1, 2, 3, 4, 'ankit']\n"
     ]
    }
   ],
   "source": [
    "list=[1,2,3,4]\n",
    "print(list)\n",
    "list.append(\"ankit\")\n",
    "print(list)"
   ]
  },
  {
   "cell_type": "code",
   "execution_count": 24,
   "id": "e9fb54c3",
   "metadata": {},
   "outputs": [
    {
     "name": "stdout",
     "output_type": "stream",
     "text": [
      "['voilet', 'indigo', 'blue', 'green']\n"
     ]
    }
   ],
   "source": [
    "colors = [\"voilet\", \"indigo\", \"blue\"]\n",
    "colors.append(\"green\")\n",
    "print(colors)"
   ]
  },
  {
   "cell_type": "markdown",
   "id": "ead14d46",
   "metadata": {},
   "source": [
    "# insert():\n",
    "This method inserts an item at the given index. User has to specify index and the item to be inserted within the insert() method."
   ]
  },
  {
   "cell_type": "code",
   "execution_count": 26,
   "id": "e4bf5a24",
   "metadata": {},
   "outputs": [
    {
     "name": "stdout",
     "output_type": "stream",
     "text": [
      "[1, 2, 777, 3, 4]\n"
     ]
    }
   ],
   "source": [
    "list=[1,2,3,4]\n",
    "list.insert(2,777)\n",
    "print(list)"
   ]
  },
  {
   "cell_type": "code",
   "execution_count": 27,
   "id": "53e95817",
   "metadata": {},
   "outputs": [
    {
     "name": "stdout",
     "output_type": "stream",
     "text": [
      "['voilet', 'green', 'indigo', 'blue']\n"
     ]
    }
   ],
   "source": [
    "colors = [\"voilet\", \"indigo\", \"blue\"]\n",
    "#           [0]        [1]      [2]\n",
    "\n",
    "colors.insert(1, \"green\")   #inserts item at index 1\n",
    "# updated list: colors = [\"voilet\", \"green\", \"indigo\", \"blue\"]\n",
    "#       indexs              [0]       [1]       [2]      [3]\n",
    "\n",
    "print(colors)"
   ]
  },
  {
   "cell_type": "markdown",
   "id": "13f02782",
   "metadata": {},
   "source": [
    "# extend():\n",
    "This method adds an entire list or any other collection datatype (set, tuple, dictionary) to the existing list.\n",
    "\n",
    "Example 1:"
   ]
  },
  {
   "cell_type": "code",
   "execution_count": 28,
   "id": "c48725a1",
   "metadata": {},
   "outputs": [
    {
     "name": "stdout",
     "output_type": "stream",
     "text": [
      "[11, 22, 44, 33, 4, 'ankit', 'kumawat', 1, 2, 3, 4]\n"
     ]
    }
   ],
   "source": [
    "list=[1,2,3,4]\n",
    "new=[11,22,44,33,4,\"ankit\",\"kumawat\"]\n",
    "new.extend(list)\n",
    "print(new)"
   ]
  },
  {
   "cell_type": "code",
   "execution_count": 29,
   "id": "b830e7c2",
   "metadata": {},
   "outputs": [
    {
     "name": "stdout",
     "output_type": "stream",
     "text": [
      "['voilet', 'indigo', 'blue', 'green', 'yellow', 'orange', 'red']\n"
     ]
    }
   ],
   "source": [
    "#add a list to a list\n",
    "colors = [\"voilet\", \"indigo\", \"blue\"]\n",
    "rainbow = [\"green\", \"yellow\", \"orange\", \"red\"]\n",
    "colors.extend(rainbow)\n",
    "print(colors)"
   ]
  },
  {
   "cell_type": "markdown",
   "id": "458e85d3",
   "metadata": {},
   "source": [
    "# Concatenating two lists:\n",
    "You can simply concatenate two lists to join two lists."
   ]
  },
  {
   "cell_type": "code",
   "execution_count": 30,
   "id": "d6394277",
   "metadata": {},
   "outputs": [
    {
     "name": "stdout",
     "output_type": "stream",
     "text": [
      "[1, 2, 3, 4, 11, 22, 44, 33, 4, 'ankit', 'kumawat']\n"
     ]
    }
   ],
   "source": [
    "list=[1,2,3,4]\n",
    "new=[11,22,44,33,4,\"ankit\",\"kumawat\"]\n",
    "k=list+new\n",
    "print(k)"
   ]
  },
  {
   "cell_type": "code",
   "execution_count": 31,
   "id": "eb687385",
   "metadata": {},
   "outputs": [
    {
     "name": "stdout",
     "output_type": "stream",
     "text": [
      "['voilet', 'indigo', 'blue', 'green', 'yellow', 'orange', 'red']\n"
     ]
    }
   ],
   "source": [
    "colors = [\"voilet\", \"indigo\", \"blue\", \"green\"]\n",
    "colors2 = [\"yellow\", \"orange\", \"red\"]\n",
    "print(colors + colors2)"
   ]
  },
  {
   "cell_type": "raw",
   "id": "7aeb46e7",
   "metadata": {},
   "source": [
    "l = [11, 45, 1, 2, 4, 6, 1, 1]\n",
    "print(l)\n",
    "# l.append(7)\n",
    "# l.sort(reverse=True)\n",
    "# l.reverse()\n",
    "# print(l.index(1))\n",
    "# print(l.count(1))\n",
    "# m = l.copy()\n",
    "# m[0] = 0\n",
    "# l.insert(1, 899)\n",
    "m = [900, 1000, 1100]\n",
    "k = l + m\n",
    "# print(k)\n",
    "# l.extend(m)\n",
    "print(l)"
   ]
  },
  {
   "cell_type": "code",
   "execution_count": null,
   "id": "22ee35b8",
   "metadata": {},
   "outputs": [],
   "source": []
  }
 ],
 "metadata": {
  "kernelspec": {
   "display_name": "Python 3 (ipykernel)",
   "language": "python",
   "name": "python3"
  },
  "language_info": {
   "codemirror_mode": {
    "name": "ipython",
    "version": 3
   },
   "file_extension": ".py",
   "mimetype": "text/x-python",
   "name": "python",
   "nbconvert_exporter": "python",
   "pygments_lexer": "ipython3",
   "version": "3.9.13"
  }
 },
 "nbformat": 4,
 "nbformat_minor": 5
}
