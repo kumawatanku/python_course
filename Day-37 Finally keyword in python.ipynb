{
 "cells": [
  {
   "cell_type": "markdown",
   "id": "6f93b7b4",
   "metadata": {},
   "source": [
    "# Finally Clause\n",
    "The finally code block is also a part of exception handling. When we handle exception using the try and except block, we can include a finally block at the end. The finally block is always executed, so it is generally used for doing the concluding tasks like closing file resources or closing database connection or may be ending the program execution with a delightful message."
   ]
  },
  {
   "cell_type": "code",
   "execution_count": 2,
   "id": "bbb41327",
   "metadata": {},
   "outputs": [
    {
     "name": "stdout",
     "output_type": "stream",
     "text": [
      "enter the index:6\n",
      "some error occurred\n"
     ]
    }
   ],
   "source": [
    "try:\n",
    "    l=[1,2,3,4,5]\n",
    "    i=int(input(\"enter the index:\"))\n",
    "    print(l[i])\n",
    "except:\n",
    "    print(\"some error occurred\")"
   ]
  },
  {
   "cell_type": "code",
   "execution_count": 3,
   "id": "e3bf6bca",
   "metadata": {},
   "outputs": [
    {
     "name": "stdout",
     "output_type": "stream",
     "text": [
      "enter the index:7\n",
      "some error occurred\n",
      "this code always included\n"
     ]
    }
   ],
   "source": [
    "try:\n",
    "    l=[1,2,3,4,5]\n",
    "    i=int(input(\"enter the index:\"))\n",
    "    print(l[i])\n",
    "except:\n",
    "    print(\"some error occurred\")\n",
    "finally:\n",
    "    print(\"this code always included\")"
   ]
  },
  {
   "cell_type": "raw",
   "id": "2065ca47",
   "metadata": {},
   "source": [
    "try:\n",
    "   #statements which could generate \n",
    "   #exception\n",
    "except:\n",
    "   #solution of generated exception\n",
    "finally:\n",
    "    #block of code which is going to \n",
    "    #execute in any situation"
   ]
  },
  {
   "cell_type": "raw",
   "id": "cbcc939b",
   "metadata": {},
   "source": [
    "The finally block is executed irrespective of the outcome of try……except…..else blocks\n",
    "One of the important use cases of finally block is in a function which returns a value."
   ]
  },
  {
   "cell_type": "code",
   "execution_count": 4,
   "id": "46795017",
   "metadata": {},
   "outputs": [
    {
     "name": "stdout",
     "output_type": "stream",
     "text": [
      "Enter an integer: 7\n",
      "Integer Accepted.\n",
      "This block is always executed.\n"
     ]
    }
   ],
   "source": [
    "try:\n",
    "    num = int(input(\"Enter an integer: \"))\n",
    "except ValueError:\n",
    "    print(\"Number entered is not an integer.\")\n",
    "else:\n",
    "    print(\"Integer Accepted.\")\n",
    "finally:\n",
    "    print(\"This block is always executed.\")"
   ]
  },
  {
   "cell_type": "raw",
   "id": "5c70940b",
   "metadata": {},
   "source": [
    "def func1():\n",
    "  try:\n",
    "    l = [1, 5, 6, 7]\n",
    "    i = int(input(\"Enter the index: \"))\n",
    "    print(l[i])\n",
    "    return 1\n",
    "  except:\n",
    "    print(\"Some error occurred\")\n",
    "    return 0\n",
    "\n",
    "  finally:\n",
    "    print(\"I am always executed\")\n",
    "  # print(\"I am always executed\")\n",
    "\n",
    "\n",
    "x = func1()\n",
    "print(x)\n"
   ]
  },
  {
   "cell_type": "code",
   "execution_count": null,
   "id": "89251af0",
   "metadata": {},
   "outputs": [],
   "source": []
  },
  {
   "cell_type": "code",
   "execution_count": null,
   "id": "afb536f2",
   "metadata": {},
   "outputs": [],
   "source": []
  },
  {
   "cell_type": "code",
   "execution_count": null,
   "id": "a79d37be",
   "metadata": {},
   "outputs": [],
   "source": []
  },
  {
   "cell_type": "code",
   "execution_count": null,
   "id": "f5027f7c",
   "metadata": {},
   "outputs": [],
   "source": []
  },
  {
   "cell_type": "code",
   "execution_count": null,
   "id": "13f0e86f",
   "metadata": {},
   "outputs": [],
   "source": []
  }
 ],
 "metadata": {
  "kernelspec": {
   "display_name": "Python 3 (ipykernel)",
   "language": "python",
   "name": "python3"
  },
  "language_info": {
   "codemirror_mode": {
    "name": "ipython",
    "version": 3
   },
   "file_extension": ".py",
   "mimetype": "text/x-python",
   "name": "python",
   "nbconvert_exporter": "python",
   "pygments_lexer": "ipython3",
   "version": "3.9.13"
  }
 },
 "nbformat": 4,
 "nbformat_minor": 5
}
