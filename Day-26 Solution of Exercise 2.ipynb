{
 "cells": [
  {
   "cell_type": "code",
   "execution_count": 1,
   "id": "6c2c21af",
   "metadata": {},
   "outputs": [
    {
     "name": "stdout",
     "output_type": "stream",
     "text": [
      "11:46:41\n",
      "11\n",
      "46\n",
      "41\n"
     ]
    }
   ],
   "source": [
    "import time\n",
    "timestamp = time.strftime('%H:%M:%S')\n",
    "print(timestamp)\n",
    "timestamp = time.strftime('%H')\n",
    "print(timestamp)\n",
    "timestamp = time.strftime('%M')\n",
    "print(timestamp)\n",
    "timestamp = time.strftime('%S')\n",
    "print(timestamp)\n",
    "# https://docs.python.org/3/library/time.html#time.strftime"
   ]
  },
  {
   "cell_type": "code",
   "execution_count": 11,
   "id": "62fc27ea",
   "metadata": {},
   "outputs": [
    {
     "name": "stdout",
     "output_type": "stream",
     "text": [
      "12:06:36\n",
      "Enter your name:ankit\n",
      "Good Afternoon \n",
      "ankit\n"
     ]
    }
   ],
   "source": [
    "import time\n",
    "timestamp=time.strftime('%H:%M:%S')\n",
    "hour=int(time.strftime('%H'))\n",
    "print(timestamp)\n",
    "name=input(\"Enter your name:\")\n",
    "\n",
    "\n",
    "if (hour>=0 and hour<12):\n",
    "    print(\"Good Morning \")\n",
    "elif (hour>=12 and hour<17):\n",
    "    print(\"Good Afternoon \")\n",
    "elif (hour>=17 and hour<20):\n",
    "    print(\"Good Evening \")\n",
    "elif (hour>=20):\n",
    "    print(\"Good Night \")\n",
    "elif (hour>=24):\n",
    "    print(\"time format should be between 0 and 23\")\n",
    "print(name)\n",
    "    \n",
    "    "
   ]
  },
  {
   "cell_type": "code",
   "execution_count": null,
   "id": "3b3e8993",
   "metadata": {},
   "outputs": [],
   "source": []
  }
 ],
 "metadata": {
  "kernelspec": {
   "display_name": "Python 3 (ipykernel)",
   "language": "python",
   "name": "python3"
  },
  "language_info": {
   "codemirror_mode": {
    "name": "ipython",
    "version": 3
   },
   "file_extension": ".py",
   "mimetype": "text/x-python",
   "name": "python",
   "nbconvert_exporter": "python",
   "pygments_lexer": "ipython3",
   "version": "3.9.13"
  }
 },
 "nbformat": 4,
 "nbformat_minor": 5
}
