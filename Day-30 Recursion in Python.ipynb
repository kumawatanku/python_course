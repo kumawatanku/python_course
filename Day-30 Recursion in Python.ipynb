{
 "cells": [
  {
   "cell_type": "markdown",
   "id": "c91fdb8f",
   "metadata": {},
   "source": [
    "# Recursion in python\n",
    "Recursion is the process of defining something in terms of itself."
   ]
  },
  {
   "cell_type": "markdown",
   "id": "3381622c",
   "metadata": {},
   "source": [
    "# Python Recursive Function\n",
    "In Python, we know that a function can call other functions. It is even possible for the function to call itself. These types of construct are termed as recursive functions."
   ]
  },
  {
   "cell_type": "code",
   "execution_count": 1,
   "id": "0b29dde9",
   "metadata": {},
   "outputs": [
    {
     "name": "stdout",
     "output_type": "stream",
     "text": [
      "120\n"
     ]
    }
   ],
   "source": [
    "def factorial(n):\n",
    "    if (n==0 or n==1):\n",
    "        return 1\n",
    "    else:\n",
    "        return n*factorial(n-1)\n",
    "    \n",
    "print(factorial(5))"
   ]
  },
  {
   "cell_type": "code",
   "execution_count": 2,
   "id": "2ded17ce",
   "metadata": {},
   "outputs": [
    {
     "name": "stdout",
     "output_type": "stream",
     "text": [
      "Number:  7\n",
      "Factorial:  5040\n"
     ]
    }
   ],
   "source": [
    "def factorial(num): \n",
    "    if (num == 1 or num == 0):\n",
    "        return 1\n",
    "    else:\n",
    "        return (num * factorial(num - 1)) \n",
    "  \n",
    "# Driver Code \n",
    "num = 7; \n",
    "print(\"Number: \",num)\n",
    "print(\"Factorial: \",factorial(num))"
   ]
  },
  {
   "cell_type": "code",
   "execution_count": 2,
   "id": "97437ee1",
   "metadata": {},
   "outputs": [
    {
     "name": "stdout",
     "output_type": "stream",
     "text": [
      "enter the numbers:7\n",
      "0\n",
      "1\n",
      "1\n",
      "2\n",
      "3\n",
      "5\n",
      "8\n"
     ]
    }
   ],
   "source": [
    "def fibonacci(n):\n",
    "    if n<=1:\n",
    "        return n\n",
    "    else:\n",
    "        return (fibonacci(n-1)+fibonacci(n-2))\n",
    "    \n",
    "numbers=int(input(\"enter the numbers:\"))\n",
    "\n",
    "for i in range(numbers):\n",
    "    print(fibonacci(i))"
   ]
  },
  {
   "cell_type": "code",
   "execution_count": null,
   "id": "faeda004",
   "metadata": {},
   "outputs": [],
   "source": []
  },
  {
   "cell_type": "code",
   "execution_count": null,
   "id": "71636308",
   "metadata": {},
   "outputs": [],
   "source": []
  },
  {
   "cell_type": "code",
   "execution_count": null,
   "id": "77d9df34",
   "metadata": {},
   "outputs": [],
   "source": []
  }
 ],
 "metadata": {
  "kernelspec": {
   "display_name": "Python 3 (ipykernel)",
   "language": "python",
   "name": "python3"
  },
  "language_info": {
   "codemirror_mode": {
    "name": "ipython",
    "version": 3
   },
   "file_extension": ".py",
   "mimetype": "text/x-python",
   "name": "python",
   "nbconvert_exporter": "python",
   "pygments_lexer": "ipython3",
   "version": "3.9.13"
  }
 },
 "nbformat": 4,
 "nbformat_minor": 5
}
