{
 "cells": [
  {
   "cell_type": "markdown",
   "id": "8cea481c",
   "metadata": {},
   "source": [
    "# Python Dictionaries\n",
    "Dictionaries are ordered collection of data items. They store multiple items in a single variable. Dictionary items are key-value pairs that are separated by commas and enclosed within curly brackets {}."
   ]
  },
  {
   "cell_type": "code",
   "execution_count": 1,
   "id": "e4b011b6",
   "metadata": {},
   "outputs": [
    {
     "name": "stdout",
     "output_type": "stream",
     "text": [
      "Human being\n"
     ]
    }
   ],
   "source": [
    "dict={\"Ankit\":\"Human being\",\"Spoon\":\"Object\"}\n",
    "print(dict[\"Ankit\"])"
   ]
  },
  {
   "cell_type": "code",
   "execution_count": 3,
   "id": "0e1b1d10",
   "metadata": {},
   "outputs": [
    {
     "name": "stdout",
     "output_type": "stream",
     "text": [
      "{'name': 'Karan', 'age': 19, 'eligible': True}\n",
      "<class 'dict'>\n"
     ]
    }
   ],
   "source": [
    "info = {'name':'Karan', 'age':19, 'eligible':True}\n",
    "print(info)\n",
    "print(type(info))"
   ]
  },
  {
   "cell_type": "code",
   "execution_count": 4,
   "id": "9749edf9",
   "metadata": {},
   "outputs": [
    {
     "name": "stdout",
     "output_type": "stream",
     "text": [
      "19\n"
     ]
    }
   ],
   "source": [
    "info = {'name':'Karan', 'age':19, 'eligible':True}\n",
    "print(info['age'])"
   ]
  },
  {
   "cell_type": "markdown",
   "id": "c3c5e378",
   "metadata": {},
   "source": [
    "# Accessing Dictionary items:"
   ]
  },
  {
   "cell_type": "markdown",
   "id": "caeb9dac",
   "metadata": {},
   "source": [
    "# I. Accessing single values:\n",
    "Values in a dictionary can be accessed using keys. We can access dictionary values by mentioning keys either in square brackets or by using get method."
   ]
  },
  {
   "cell_type": "code",
   "execution_count": 6,
   "id": "c0bab1f7",
   "metadata": {},
   "outputs": [
    {
     "name": "stdout",
     "output_type": "stream",
     "text": [
      "Karan\n",
      "Karan\n"
     ]
    }
   ],
   "source": [
    "info = {'name':'Karan', 'age':19, 'eligible':True}\n",
    "print(info['name'])\n",
    "print(info.get('name'))"
   ]
  },
  {
   "cell_type": "code",
   "execution_count": 10,
   "id": "035918d0",
   "metadata": {},
   "outputs": [
    {
     "name": "stdout",
     "output_type": "stream",
     "text": [
      "None\n",
      "dict_keys(['name', 'age', 'eligible'])\n",
      "Karan\n",
      "19\n",
      "True\n"
     ]
    }
   ],
   "source": [
    "info = {'name':'Karan', 'age':19, 'eligible':True}\n",
    "#print(info['name1'])\n",
    "print(info.get('name1'))\n",
    "print(info.keys())\n",
    "for key in info.keys():\n",
    "    print(info[key])"
   ]
  },
  {
   "cell_type": "markdown",
   "id": "b0e8de55",
   "metadata": {},
   "source": [
    "# II. Accessing multiple values:\n",
    "We can print all the values in the dictionary using values() method."
   ]
  },
  {
   "cell_type": "code",
   "execution_count": 11,
   "id": "4ece887b",
   "metadata": {},
   "outputs": [
    {
     "name": "stdout",
     "output_type": "stream",
     "text": [
      "dict_values(['Karan', 19, True])\n"
     ]
    }
   ],
   "source": [
    "info = {'name':'Karan', 'age':19, 'eligible':True}\n",
    "print(info.values())"
   ]
  },
  {
   "cell_type": "markdown",
   "id": "ab91e02d",
   "metadata": {},
   "source": [
    "# III. Accessing keys:\n",
    "We can print all the keys in the dictionary using keys() method."
   ]
  },
  {
   "cell_type": "code",
   "execution_count": 13,
   "id": "4cc43fd1",
   "metadata": {},
   "outputs": [
    {
     "name": "stdout",
     "output_type": "stream",
     "text": [
      "dict_keys(['name', 'age', 'eligible'])\n",
      "The value corresponding to the key name is Karan\n",
      "The value corresponding to the key age is 19\n",
      "The value corresponding to the key eligible is True\n"
     ]
    }
   ],
   "source": [
    "info = {'name':'Karan', 'age':19, 'eligible':True}\n",
    "print(info.keys())\n",
    "for key in info.keys():\n",
    "    print(f\"The value corresponding to the key {key} is {info[key]}\")"
   ]
  },
  {
   "cell_type": "markdown",
   "id": "db3fb47b",
   "metadata": {},
   "source": [
    "# IV. Accessing key-value pairs:\n",
    "We can print all the key-value pairs in the dictionary using items() method."
   ]
  },
  {
   "cell_type": "code",
   "execution_count": 14,
   "id": "6ebb6fe1",
   "metadata": {},
   "outputs": [
    {
     "name": "stdout",
     "output_type": "stream",
     "text": [
      "dict_items([('name', 'Karan'), ('age', 19), ('eligible', True)])\n"
     ]
    }
   ],
   "source": [
    "info = {'name':'Karan', 'age':19, 'eligible':True}\n",
    "print(info.items())"
   ]
  },
  {
   "cell_type": "raw",
   "id": "7425c9c2",
   "metadata": {},
   "source": [
    "info = {'name':'Karan', 'age':19, 'eligible':True}\n",
    "# print(info) \n",
    "# print(info.keys())\n",
    "# print(info.values())\n",
    "\n",
    "# for key in info.keys():\n",
    "#   print(f\"The value corresponding to the key {key} is {info[key]}\")\n",
    "\n",
    "print(info.items())\n",
    "for key, value in info.items():\n",
    "  print(f\"The value corresponding to the key {key} is {value}\") \n",
    "  "
   ]
  }
 ],
 "metadata": {
  "kernelspec": {
   "display_name": "Python 3 (ipykernel)",
   "language": "python",
   "name": "python3"
  },
  "language_info": {
   "codemirror_mode": {
    "name": "ipython",
    "version": 3
   },
   "file_extension": ".py",
   "mimetype": "text/x-python",
   "name": "python",
   "nbconvert_exporter": "python",
   "pygments_lexer": "ipython3",
   "version": "3.9.13"
  }
 },
 "nbformat": 4,
 "nbformat_minor": 5
}
