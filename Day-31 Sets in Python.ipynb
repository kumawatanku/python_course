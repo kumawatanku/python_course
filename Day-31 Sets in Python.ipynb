{
 "cells": [
  {
   "cell_type": "markdown",
   "id": "4bce2558",
   "metadata": {},
   "source": [
    "# Python Sets\n",
    "Sets are unordered collection of data items. They store multiple items in a single variable. Set items are separated by commas and enclosed within curly brackets {}. Sets are unchangeable, meaning you cannot change items of the set once created. Sets do not contain duplicate items."
   ]
  },
  {
   "cell_type": "code",
   "execution_count": 5,
   "id": "83d2af7e",
   "metadata": {},
   "outputs": [
    {
     "name": "stdout",
     "output_type": "stream",
     "text": [
      "{34, 3, 4, 5}\n"
     ]
    }
   ],
   "source": [
    "set={3,4,34,5,4,3}\n",
    "print(set)"
   ]
  },
  {
   "cell_type": "code",
   "execution_count": 6,
   "id": "fb5e99e1",
   "metadata": {},
   "outputs": [
    {
     "name": "stdout",
     "output_type": "stream",
     "text": [
      "{False, 'Carla', 19, 5.9}\n"
     ]
    }
   ],
   "source": [
    "info = {\"Carla\", 19, False, 5.9, 19}\n",
    "print(info)"
   ]
  },
  {
   "cell_type": "raw",
   "id": "16dfa0a5",
   "metadata": {},
   "source": [
    "Here we see that the items of set occur in random order and hence they cannot be accessed using index numbers. Also sets do not allow duplicate values."
   ]
  },
  {
   "cell_type": "markdown",
   "id": "d223c81f",
   "metadata": {},
   "source": [
    "# Quick Quiz: Try to create an empty set. Check using the type() function whether the type of your variable is a set"
   ]
  },
  {
   "cell_type": "code",
   "execution_count": 7,
   "id": "9a43d990",
   "metadata": {},
   "outputs": [
    {
     "name": "stdout",
     "output_type": "stream",
     "text": [
      "<class 'dict'>\n"
     ]
    }
   ],
   "source": [
    "set={}\n",
    "print(type(set))"
   ]
  },
  {
   "cell_type": "code",
   "execution_count": 1,
   "id": "ec830769",
   "metadata": {},
   "outputs": [
    {
     "name": "stdout",
     "output_type": "stream",
     "text": [
      "<class 'set'>\n",
      "set()\n"
     ]
    }
   ],
   "source": [
    "\n",
    "ankit=set()\n",
    "print(type(ankit))\n",
    "print(ankit)"
   ]
  },
  {
   "cell_type": "markdown",
   "id": "2b8305ff",
   "metadata": {},
   "source": [
    "# Accessing set items:"
   ]
  },
  {
   "cell_type": "markdown",
   "id": "51e32efd",
   "metadata": {},
   "source": [
    "# Using a For loop\n",
    "You can access items of set using a for loop.\n",
    "\n"
   ]
  },
  {
   "cell_type": "code",
   "execution_count": 2,
   "id": "fcbe7bf8",
   "metadata": {},
   "outputs": [
    {
     "name": "stdout",
     "output_type": "stream",
     "text": [
      "False\n",
      "Carla\n",
      "19\n",
      "5.9\n"
     ]
    }
   ],
   "source": [
    "info = {\"Carla\", 19, False, 5.9}\n",
    "for item in info:\n",
    "    print(item)"
   ]
  },
  {
   "cell_type": "raw",
   "id": "7cdbfb04",
   "metadata": {},
   "source": [
    "s = {2, 4, 2, 6}\n",
    "print(s)\n",
    "\n",
    "info = {\"Carla\", 19, False, 5.9, 19}\n",
    "print(info)\n",
    "\n",
    "harry = set()\n",
    "print(type(harry))\n",
    "\n",
    "for value in info:\n",
    "  print(value)"
   ]
  },
  {
   "cell_type": "code",
   "execution_count": null,
   "id": "67e207b2",
   "metadata": {},
   "outputs": [],
   "source": []
  }
 ],
 "metadata": {
  "kernelspec": {
   "display_name": "Python 3 (ipykernel)",
   "language": "python",
   "name": "python3"
  },
  "language_info": {
   "codemirror_mode": {
    "name": "ipython",
    "version": 3
   },
   "file_extension": ".py",
   "mimetype": "text/x-python",
   "name": "python",
   "nbconvert_exporter": "python",
   "pygments_lexer": "ipython3",
   "version": "3.9.13"
  }
 },
 "nbformat": 4,
 "nbformat_minor": 5
}
