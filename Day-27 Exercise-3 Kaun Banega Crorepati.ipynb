{
 "cells": [
  {
   "cell_type": "markdown",
   "id": "8af59671",
   "metadata": {},
   "source": [
    "# Create a program capable of displaying questions to the user like KBC. Use List data type to store the questions and their correct answers. Display the final amount the person is taking home after playing the game."
   ]
  },
  {
   "cell_type": "code",
   "execution_count": 1,
   "id": "cef19e30",
   "metadata": {},
   "outputs": [
    {
     "ename": "SyntaxError",
     "evalue": "invalid syntax (1639228452.py, line 3)",
     "output_type": "error",
     "traceback": [
      "\u001b[1;36m  File \u001b[1;32m\"C:\\Users\\hp\\AppData\\Local\\Temp\\ipykernel_18696\\1639228452.py\"\u001b[1;36m, line \u001b[1;32m3\u001b[0m\n\u001b[1;33m    9.2 to 9.8\u001b[0m\n\u001b[1;37m        ^\u001b[0m\n\u001b[1;31mSyntaxError\u001b[0m\u001b[1;31m:\u001b[0m invalid syntax\n"
     ]
    }
   ],
   "source": [
    "list_of_questions=[\"1) What is the pH value of the human body?\",\"2) Which of the following are called \\\"Key Industrial animals\"\\?\"]\n",
    "                   \n",
    "count=0\n",
    "                   \n",
    "for question in list_of_questions:\n",
    "                   if \"7.0 to 7.8\" in question:\n",
    "                       print(\"correct answer\")\n",
    "                       count=count+100\n",
    "                       print(\"the winning amount is:\",count)\n",
    "                       \n",
    "                   "
   ]
  }
 ],
 "metadata": {
  "kernelspec": {
   "display_name": "Python 3 (ipykernel)",
   "language": "python",
   "name": "python3"
  },
  "language_info": {
   "codemirror_mode": {
    "name": "ipython",
    "version": 3
   },
   "file_extension": ".py",
   "mimetype": "text/x-python",
   "name": "python",
   "nbconvert_exporter": "python",
   "pygments_lexer": "ipython3",
   "version": "3.9.13"
  }
 },
 "nbformat": 4,
 "nbformat_minor": 5
}
