{
 "cells": [
  {
   "cell_type": "markdown",
   "id": "ed4c88e7",
   "metadata": {},
   "source": [
    "# Manipulating Tuples\n",
    "Tuples are immutable, hence if you want to add, remove or change tuple items, then first you must convert the tuple to a list. Then perform operation on that list and convert it back to tuple."
   ]
  },
  {
   "cell_type": "code",
   "execution_count": 1,
   "id": "c8769454",
   "metadata": {},
   "outputs": [
    {
     "name": "stdout",
     "output_type": "stream",
     "text": [
      "('Spain', 'Italy', 'Finland', 'Germany', 'Russia')\n"
     ]
    }
   ],
   "source": [
    "countries = (\"Spain\", \"Italy\", \"India\", \"England\", \"Germany\")\n",
    "temp = list(countries)\n",
    "temp.append(\"Russia\")       #add item \n",
    "temp.pop(3)                 #remove item\n",
    "temp[2] = \"Finland\"         #change item\n",
    "countries = tuple(temp)\n",
    "print(countries)"
   ]
  },
  {
   "cell_type": "raw",
   "id": "52cacf0f",
   "metadata": {},
   "source": [
    "Thus, we convert the tuple to a list, manipulate items of the list using list methods, then convert list back to a tuple."
   ]
  },
  {
   "cell_type": "raw",
   "id": "fc4f0775",
   "metadata": {},
   "source": [
    "However, we can directly concatenate two tuples without converting them to list."
   ]
  },
  {
   "cell_type": "code",
   "execution_count": 2,
   "id": "47ff1deb",
   "metadata": {},
   "outputs": [
    {
     "name": "stdout",
     "output_type": "stream",
     "text": [
      "('Pakistan', 'Afghanistan', 'Bangladesh', 'ShriLanka', 'Vietnam', 'India', 'China')\n"
     ]
    }
   ],
   "source": [
    "countries = (\"Pakistan\", \"Afghanistan\", \"Bangladesh\", \"ShriLanka\")\n",
    "countries2 = (\"Vietnam\", \"India\", \"China\")\n",
    "southEastAsia = countries + countries2\n",
    "print(southEastAsia)"
   ]
  },
  {
   "cell_type": "markdown",
   "id": "37fb8509",
   "metadata": {},
   "source": [
    "# Tuple methods\n",
    "As tuple is immutable type of collection of elements it have limited built in methods.They are explained below"
   ]
  },
  {
   "cell_type": "markdown",
   "id": "037854f6",
   "metadata": {},
   "source": [
    "# count() Method\n",
    "The count() method of Tuple returns the number of times the given element appears in the tuple."
   ]
  },
  {
   "cell_type": "markdown",
   "id": "87f6c6b8",
   "metadata": {},
   "source": [
    "# tuple.count(element)"
   ]
  },
  {
   "cell_type": "code",
   "execution_count": 3,
   "id": "f003c1c7",
   "metadata": {},
   "outputs": [
    {
     "name": "stdout",
     "output_type": "stream",
     "text": [
      "Count of 3 in Tuple1 is: 3\n"
     ]
    }
   ],
   "source": [
    "Tuple1 = (0, 1, 2, 3, 2, 3, 1, 3, 2)\n",
    "res = Tuple1.count(3)\n",
    "print('Count of 3 in Tuple1 is:', res)"
   ]
  },
  {
   "cell_type": "markdown",
   "id": "196762f1",
   "metadata": {},
   "source": [
    "# index() method\n",
    "The Index() method returns the first occurrence of the given element from the tuple."
   ]
  },
  {
   "cell_type": "markdown",
   "id": "bfd86260",
   "metadata": {},
   "source": [
    "# tuple.index(element, start, end)"
   ]
  },
  {
   "cell_type": "code",
   "execution_count": 5,
   "id": "304cd65a",
   "metadata": {},
   "outputs": [
    {
     "name": "stdout",
     "output_type": "stream",
     "text": [
      "7\n"
     ]
    }
   ],
   "source": [
    "tuple1=(2,31,2,34,5,56,3,2,4,4,556,76)\n",
    "res=tuple1.index(2,3,10)\n",
    "print(res)"
   ]
  },
  {
   "cell_type": "raw",
   "id": "68827eca",
   "metadata": {},
   "source": [
    "Note: This method raises a ValueError if the element is not found in the tuple."
   ]
  },
  {
   "cell_type": "code",
   "execution_count": 6,
   "id": "e2810340",
   "metadata": {},
   "outputs": [
    {
     "name": "stdout",
     "output_type": "stream",
     "text": [
      "First occurrence of 3 is 3\n"
     ]
    }
   ],
   "source": [
    "Tuple = (0, 1, 2, 3, 2, 3, 1, 3, 2)\n",
    "res = Tuple.index(3)\n",
    "print('First occurrence of 3 is', res)"
   ]
  },
  {
   "cell_type": "code",
   "execution_count": 7,
   "id": "7879de8c",
   "metadata": {},
   "outputs": [
    {
     "name": "stdout",
     "output_type": "stream",
     "text": [
      "9\n"
     ]
    }
   ],
   "source": [
    "Tuple = (0, 1, 2, 3, 2, 3, 1, 3, 2)\n",
    "print(len(Tuple))"
   ]
  },
  {
   "cell_type": "raw",
   "id": "203c1ed8",
   "metadata": {},
   "source": [
    "tuple1 = (0, 1, 2, 3, 2, 31, 1, 3, 2, 3)\n",
    "# res = tuple1.count(3)\n",
    "# res = tuple1.index(3)\n",
    "# res = tuple1.index(311)\n",
    "# res = tuple1.index(3, 4, 8)\n",
    "res = len(tuple1)\n",
    "print('Count of 3 in tuple1 is:', res)"
   ]
  }
 ],
 "metadata": {
  "kernelspec": {
   "display_name": "Python 3 (ipykernel)",
   "language": "python",
   "name": "python3"
  },
  "language_info": {
   "codemirror_mode": {
    "name": "ipython",
    "version": 3
   },
   "file_extension": ".py",
   "mimetype": "text/x-python",
   "name": "python",
   "nbconvert_exporter": "python",
   "pygments_lexer": "ipython3",
   "version": "3.9.13"
  }
 },
 "nbformat": 4,
 "nbformat_minor": 5
}
