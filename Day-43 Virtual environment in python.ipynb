{
 "cells": [
  {
   "cell_type": "markdown",
   "id": "a53489c8",
   "metadata": {},
   "source": [
    "# Virtual Environment\n",
    "A virtual environment is a tool used to isolate specific Python environments on a single machine, allowing you to work on multiple projects with different dependencies and packages without conflicts. This can be especially useful when working on projects that have conflicting package versions or packages that are not compatible with each other.\n",
    "\n",
    "To create a virtual environment in Python, you can use the venv module that comes with Python. Here's an example of how to create a virtual environment and activate it:"
   ]
  },
  {
   "cell_type": "raw",
   "id": "b563e05f",
   "metadata": {},
   "source": [
    "# Create a virtual environment\n",
    "python -m venv myenv\n",
    "\n",
    "# Activate the virtual environment (Linux/macOS)\n",
    "source myenv/bin/activate\n",
    "\n",
    "# Activate the virtual environment (Windows)\n",
    "myenv\\Scripts\\activate.bat"
   ]
  },
  {
   "cell_type": "markdown",
   "id": "9c9863ab",
   "metadata": {},
   "source": [
    "# Once the virtual environment is activated, any packages that you install using pip will be installed in the virtual environment, rather than in the global Python environment. This allows you to have a separate set of packages for each project, without affecting the packages installed in the global environment.\n",
    "\n",
    "To deactivate the virtual environment, you can use the deactivate command:"
   ]
  },
  {
   "cell_type": "raw",
   "id": "edd92292",
   "metadata": {},
   "source": [
    "# Deactivate the virtual environment\n",
    "deactivate"
   ]
  },
  {
   "cell_type": "markdown",
   "id": "b29166a1",
   "metadata": {},
   "source": [
    "# he \"requirements.txt\" file\n",
    "In addition to creating and activating a virtual environment, it can be useful to create a requirements.txt file that lists the packages and their versions that your project depends on. This file can be used to easily install all the required packages in a new environment.\n",
    "\n",
    "To create a requirements.txt file, you can use the pip freeze command, which outputs a list of installed packages and their versions. For example:"
   ]
  },
  {
   "cell_type": "raw",
   "id": "1517bd53",
   "metadata": {},
   "source": [
    "# Output the list of installed packages and their versions to a file\n",
    "pip freeze > requirements.txt"
   ]
  },
  {
   "cell_type": "raw",
   "id": "96586e75",
   "metadata": {},
   "source": [
    "To install the packages listed in the requirements.txt file, you can use the pip install command with the -r flag:"
   ]
  },
  {
   "cell_type": "markdown",
   "id": "f26e5441",
   "metadata": {},
   "source": [
    "# Install the packages listed in the requirements.txt file\n",
    "pip install -r requirements.txt"
   ]
  },
  {
   "cell_type": "raw",
   "id": "8aea4fc3",
   "metadata": {},
   "source": [
    "Using a virtual environment and a requirements.txt file can help you manage the dependencies for your Python projects and ensure that your projects are portable and can be easily set up on a new machine.\n",
    "\n"
   ]
  }
 ],
 "metadata": {
  "kernelspec": {
   "display_name": "Python 3 (ipykernel)",
   "language": "python",
   "name": "python3"
  },
  "language_info": {
   "codemirror_mode": {
    "name": "ipython",
    "version": 3
   },
   "file_extension": ".py",
   "mimetype": "text/x-python",
   "name": "python",
   "nbconvert_exporter": "python",
   "pygments_lexer": "ipython3",
   "version": "3.9.13"
  }
 },
 "nbformat": 4,
 "nbformat_minor": 5
}
