{
 "cells": [
  {
   "cell_type": "markdown",
   "id": "16c85a34",
   "metadata": {},
   "source": [
    "# Excersice 2: Good Morning Sir\n",
    "Create a python program capable of greeting you with Good Morning, Good Afternoon and Good Evening. Your program should use time module to get the current hour. Here is a sample program and documentation link for you:"
   ]
  },
  {
   "cell_type": "code",
   "execution_count": null,
   "id": "6de29b62",
   "metadata": {},
   "outputs": [],
   "source": []
  },
  {
   "cell_type": "code",
   "execution_count": 4,
   "id": "f25b2642",
   "metadata": {},
   "outputs": [
    {
     "name": "stdout",
     "output_type": "stream",
     "text": [
      "11:44:59\n",
      "11:44:59\n",
      "11:44:59\n",
      "11:44:59\n",
      "11\n",
      "44\n",
      "59\n"
     ]
    }
   ],
   "source": [
    "import time\n",
    "timestamp = time.strftime('%H:%M:%S')\n",
    "print(timestamp)\n",
    "timestamp1 = int(time.strftime('%H'))\n",
    "print(timestamp)\n",
    "timestamp2 = int(time.strftime('%M'))\n",
    "print(timestamp)\n",
    "timestamp3 = int(time.strftime('%S'))\n",
    "print(timestamp)\n",
    "print(timestamp1)\n",
    "print(timestamp2)\n",
    "print(timestamp3)\n",
    "# https://docs.python.org/3/library/time.html#time.strftime\n",
    "\n"
   ]
  }
 ],
 "metadata": {
  "kernelspec": {
   "display_name": "Python 3 (ipykernel)",
   "language": "python",
   "name": "python3"
  },
  "language_info": {
   "codemirror_mode": {
    "name": "ipython",
    "version": 3
   },
   "file_extension": ".py",
   "mimetype": "text/x-python",
   "name": "python",
   "nbconvert_exporter": "python",
   "pygments_lexer": "ipython3",
   "version": "3.9.13"
  }
 },
 "nbformat": 4,
 "nbformat_minor": 5
}
