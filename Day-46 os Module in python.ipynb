{
 "cells": [
  {
   "cell_type": "markdown",
   "id": "5b889796",
   "metadata": {},
   "source": [
    "# os Module in Python\n",
    "The os module in Python is a built-in library that provides functions for interacting with the operating system. It allows you to perform a wide variety of tasks, such as reading and writing files, interacting with the file system, and running system commands.\n",
    "\n",
    "Here are some common tasks you can perform with the os module:\n",
    "\n",
    "Reading and writing files The os module provides functions for opening, reading, and writing files. For example, to open a file for reading, you can use the open function:"
   ]
  },
  {
   "cell_type": "raw",
   "id": "5443ac04",
   "metadata": {},
   "source": [
    "import os\n",
    "\n",
    "if(not os.path.exists(\"data\")):\n",
    "    os.mkdir(\"data\")\n",
    "\n",
    "for i in range(0, 100):\n",
    "    os.mkdir(f\"data/Day{i+1}\")\n",
    "    \n"
   ]
  },
  {
   "cell_type": "raw",
   "id": "d5f85f3c",
   "metadata": {},
   "source": [
    "import os \n",
    "folders = os.listdir(\"data\")\n",
    "\n",
    "print(os.getcwd())\n",
    "os.chdir(\"/Users\")\n",
    "print(os.getcwd())\n",
    "\n",
    "for folder in folders:\n",
    "    print(folder)\n",
    "    print(os.listdir(f\"data/{folder}\"))\n",
    "    "
   ]
  },
  {
   "cell_type": "raw",
   "id": "2548767a",
   "metadata": {},
   "source": [
    "import os\n",
    " \n",
    "\n",
    "for i in range(0, 100):\n",
    "    os.rename(f\"data/Tutorial{i+1}\", f\"data/Tutorial {i+1}\")\n",
    "    \n"
   ]
  },
  {
   "cell_type": "raw",
   "id": "ae56463c",
   "metadata": {},
   "source": [
    "import os\n",
    "\n",
    "# Open the file in read-only mode\n",
    "f = os.open(\"myfile.txt\", os.O_RDONLY)\n",
    "\n",
    "# Read the contents of the file\n",
    "contents = os.read(f, 1024)\n",
    "\n",
    "# Close the file\n",
    "os.close(f)"
   ]
  },
  {
   "cell_type": "raw",
   "id": "326b00fe",
   "metadata": {},
   "source": [
    "import os\n",
    "\n",
    "# Open the file in write-only mode\n",
    "f = os.open(\"myfile.txt\", os.O_WRONLY)\n",
    "\n",
    "# Write to the file\n",
    "os.write(f, b\"Hello, world!\")\n",
    "\n",
    "# Close the file\n",
    "os.close(f)"
   ]
  },
  {
   "cell_type": "markdown",
   "id": "81f5608c",
   "metadata": {},
   "source": [
    "# Interacting with the file system\n",
    "The os module also provides functions for interacting with the file system. For example, you can use the os.listdir function to get a list of the files in a directory:"
   ]
  },
  {
   "cell_type": "raw",
   "id": "bf68e524",
   "metadata": {},
   "source": [
    "import os\n",
    "\n",
    "# Get a list of the files in the current directory\n",
    "files = os.listdir(\".\")\n",
    "print(files)  # Output: ['myfile.txt', 'otherfile.txt']"
   ]
  },
  {
   "cell_type": "raw",
   "id": "e29e5789",
   "metadata": {},
   "source": [
    "import os\n",
    "\n",
    "# Create a new directory\n",
    "os.mkdir(\"newdir\")"
   ]
  },
  {
   "cell_type": "markdown",
   "id": "7f304105",
   "metadata": {},
   "source": [
    "# Running system commands\n",
    "Finally, the os module provides functions for running system commands. For example, you can use the os.system function to run a command and get the output:"
   ]
  },
  {
   "cell_type": "raw",
   "id": "66eef34c",
   "metadata": {},
   "source": [
    "import os\n",
    "\n",
    "# Run the \"ls\" command and print the output\n",
    "output = os.system(\"ls\")\n",
    "print(output)  # Output: ['myfile.txt', 'otherfile.txt']"
   ]
  },
  {
   "cell_type": "raw",
   "id": "fdfe3992",
   "metadata": {},
   "source": [
    "import os\n",
    "\n",
    "# Run the \"ls\" command and get the output as a file-like object\n",
    "f = os.popen(\"ls\")\n",
    "\n",
    "# Read the contents of the output\n",
    "output = f.read()\n",
    "print(output)  # Output: ['myfile.txt', 'otherfile.txt']\n",
    "\n",
    "# Close the file-like object\n",
    "f.close()"
   ]
  },
  {
   "cell_type": "raw",
   "id": "8c4e4a55",
   "metadata": {},
   "source": [
    "In summary, the os module in Python is a built-in library that provides a wide variety of functions for interacting with the operating system. It allows you to perform tasks such as reading and writing files, interacting with the file system, and running system commands."
   ]
  },
  {
   "cell_type": "code",
   "execution_count": null,
   "id": "70d2ccf1",
   "metadata": {},
   "outputs": [],
   "source": []
  }
 ],
 "metadata": {
  "kernelspec": {
   "display_name": "Python 3 (ipykernel)",
   "language": "python",
   "name": "python3"
  },
  "language_info": {
   "codemirror_mode": {
    "name": "ipython",
    "version": 3
   },
   "file_extension": ".py",
   "mimetype": "text/x-python",
   "name": "python",
   "nbconvert_exporter": "python",
   "pygments_lexer": "ipython3",
   "version": "3.9.13"
  }
 },
 "nbformat": 4,
 "nbformat_minor": 5
}
