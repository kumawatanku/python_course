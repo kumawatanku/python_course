{
 "cells": [
  {
   "cell_type": "markdown",
   "id": "9ff838d1",
   "metadata": {},
   "source": [
    "# Exception Handling\n",
    "Exception handling is the process of responding to unwanted or unexpected events when a computer program runs. Exception handling deals with these events to avoid the program or system crashing, and without this process, exceptions would disrupt the normal operation of a program."
   ]
  },
  {
   "cell_type": "markdown",
   "id": "52fab434",
   "metadata": {},
   "source": [
    "# Exceptions in Python\n",
    "Python has many built-in exceptions that are raised when your program encounters an error (something in the program goes wrong).\n",
    "\n",
    "When these exceptions occur, the Python interpreter stops the current process and passes it to the calling process until it is handled. If not handled, the program will crash."
   ]
  },
  {
   "cell_type": "code",
   "execution_count": 1,
   "id": "ea396a2f",
   "metadata": {},
   "outputs": [
    {
     "name": "stdout",
     "output_type": "stream",
     "text": [
      "Enter the number:6\n",
      "Multiplication table of 6 is:\n",
      "6X1=6\n",
      "6X2=12\n",
      "6X3=18\n",
      "6X4=24\n",
      "6X5=30\n",
      "6X6=36\n",
      "6X7=42\n",
      "6X8=48\n",
      "6X9=54\n",
      "6X10=60\n"
     ]
    }
   ],
   "source": [
    "a=int(input(\"Enter the number:\"))\n",
    "print(f\"Multiplication table of {a} is:\")\n",
    "for i in range(1,11):\n",
    "    print(f\"{a}X{i}={a*i}\")"
   ]
  },
  {
   "cell_type": "code",
   "execution_count": 1,
   "id": "6eda133a",
   "metadata": {},
   "outputs": [
    {
     "name": "stdout",
     "output_type": "stream",
     "text": [
      "Enter the number:harry\n"
     ]
    },
    {
     "ename": "ValueError",
     "evalue": "invalid literal for int() with base 10: 'harry'",
     "output_type": "error",
     "traceback": [
      "\u001b[1;31m---------------------------------------------------------------------------\u001b[0m",
      "\u001b[1;31mValueError\u001b[0m                                Traceback (most recent call last)",
      "\u001b[1;32m~\\AppData\\Local\\Temp\\ipykernel_14708\\1717229089.py\u001b[0m in \u001b[0;36m<module>\u001b[1;34m\u001b[0m\n\u001b[1;32m----> 1\u001b[1;33m \u001b[0ma\u001b[0m\u001b[1;33m=\u001b[0m\u001b[0mint\u001b[0m\u001b[1;33m(\u001b[0m\u001b[0minput\u001b[0m\u001b[1;33m(\u001b[0m\u001b[1;34m\"Enter the number:\"\u001b[0m\u001b[1;33m)\u001b[0m\u001b[1;33m)\u001b[0m\u001b[1;33m\u001b[0m\u001b[1;33m\u001b[0m\u001b[0m\n\u001b[0m\u001b[0;32m      2\u001b[0m \u001b[0mprint\u001b[0m\u001b[1;33m(\u001b[0m\u001b[1;34mf\"Multiplication table of {a} is:\"\u001b[0m\u001b[1;33m)\u001b[0m\u001b[1;33m\u001b[0m\u001b[1;33m\u001b[0m\u001b[0m\n\u001b[0;32m      3\u001b[0m \u001b[1;32mfor\u001b[0m \u001b[0mi\u001b[0m \u001b[1;32min\u001b[0m \u001b[0mrange\u001b[0m\u001b[1;33m(\u001b[0m\u001b[1;36m1\u001b[0m\u001b[1;33m,\u001b[0m\u001b[1;36m11\u001b[0m\u001b[1;33m)\u001b[0m\u001b[1;33m:\u001b[0m\u001b[1;33m\u001b[0m\u001b[1;33m\u001b[0m\u001b[0m\n\u001b[0;32m      4\u001b[0m     \u001b[0mprint\u001b[0m\u001b[1;33m(\u001b[0m\u001b[1;34mf\"{a}X{i}={a*i}\"\u001b[0m\u001b[1;33m)\u001b[0m\u001b[1;33m\u001b[0m\u001b[1;33m\u001b[0m\u001b[0m\n\u001b[0;32m      5\u001b[0m \u001b[0mprint\u001b[0m\u001b[1;33m(\u001b[0m\u001b[1;34m\"next of the code running\"\u001b[0m\u001b[1;33m)\u001b[0m\u001b[1;33m\u001b[0m\u001b[1;33m\u001b[0m\u001b[0m\n",
      "\u001b[1;31mValueError\u001b[0m: invalid literal for int() with base 10: 'harry'"
     ]
    }
   ],
   "source": [
    "a=int(input(\"Enter the number:\"))\n",
    "print(f\"Multiplication table of {a} is:\")\n",
    "for i in range(1,11):\n",
    "    print(f\"{a}X{i}={a*i}\")\n",
    "print(\"next of the code running\")"
   ]
  },
  {
   "cell_type": "code",
   "execution_count": 3,
   "id": "74994b0e",
   "metadata": {},
   "outputs": [
    {
     "name": "stdout",
     "output_type": "stream",
     "text": [
      "Enter the number:harry\n",
      "Multiplication table of harry is:\n",
      "invalid literal for int() with base 10: 'harry'\n",
      "next block of code\n"
     ]
    }
   ],
   "source": [
    "a=input(\"Enter the number:\")\n",
    "print(f\"Multiplication table of {a} is:\")\n",
    "try:\n",
    "    for i in range(1,11):\n",
    "        print(f\"{int(a)}X{i}={int(a)*i}\")\n",
    "except Exception as e:\n",
    "    print(e)\n",
    "print(\"next block of code\")"
   ]
  },
  {
   "cell_type": "markdown",
   "id": "190a6c75",
   "metadata": {},
   "source": [
    "# Python try...except\n",
    "try….. except blocks are used in python to handle errors and exceptions. The code in try block runs when there is no error. If the try block catches the error, then the except block is executed.\n",
    "\n",
    "Syntax:"
   ]
  },
  {
   "cell_type": "raw",
   "id": "e32d6268",
   "metadata": {},
   "source": [
    "try:\n",
    "     #statements which could generate \n",
    "     #exception\n",
    "except:\n",
    "     #Soloution of generated exception"
   ]
  },
  {
   "cell_type": "code",
   "execution_count": 4,
   "id": "f79709ef",
   "metadata": {},
   "outputs": [
    {
     "name": "stdout",
     "output_type": "stream",
     "text": [
      "Enter an integer: ankit\n",
      "Number entered is not an integer.\n"
     ]
    }
   ],
   "source": [
    "try:\n",
    "    num = int(input(\"Enter an integer: \"))\n",
    "except ValueError:\n",
    "    print(\"Number entered is not an integer.\")"
   ]
  },
  {
   "cell_type": "code",
   "execution_count": 5,
   "id": "816ee237",
   "metadata": {},
   "outputs": [
    {
     "name": "stdout",
     "output_type": "stream",
     "text": [
      "Enter an integer: 4\n",
      "found no any in the list\n"
     ]
    }
   ],
   "source": [
    "try:\n",
    "    num = int(input(\"Enter an integer: \"))\n",
    "    a=[6,3]\n",
    "    print(a[num])\n",
    "except ValueError:\n",
    "    print(\"Number entered is not an integer.\")\n",
    "except IndexError:\n",
    "    print(\"found no any in the list\")"
   ]
  },
  {
   "cell_type": "raw",
   "id": "375ab4ec",
   "metadata": {},
   "source": [
    "# a = input(\"Enter the number: \")\n",
    "# print(f\"Multiplication table of {a} is: \")\n",
    "# try:\n",
    "#   for i in range(1, 11):\n",
    "#     print(f\"{int(a)} X {i} = {int(a)*i}\")\n",
    "# except:\n",
    "#   print(\"Invalid  Input!\")\n",
    "\n",
    "# print(\"Some imp lines of code\")\n",
    "# print(\"End of program\")\n",
    "\n",
    "try:\n",
    "    num = int(input(\"Enter an integer: \"))\n",
    "    a = [6, 3]\n",
    "    print(a[num])\n",
    "except ValueError:\n",
    "    print(\"Number entered is not an integer.\")\n",
    "    \n",
    "except IndexError:\n",
    "  print(\"Index Error\")"
   ]
  },
  {
   "cell_type": "code",
   "execution_count": null,
   "id": "61c3c1f3",
   "metadata": {},
   "outputs": [],
   "source": []
  },
  {
   "cell_type": "code",
   "execution_count": null,
   "id": "84a6b914",
   "metadata": {},
   "outputs": [],
   "source": []
  },
  {
   "cell_type": "code",
   "execution_count": null,
   "id": "8c182802",
   "metadata": {},
   "outputs": [],
   "source": []
  },
  {
   "cell_type": "code",
   "execution_count": null,
   "id": "bcdcdf08",
   "metadata": {},
   "outputs": [],
   "source": []
  },
  {
   "cell_type": "code",
   "execution_count": null,
   "id": "7739fa8f",
   "metadata": {},
   "outputs": [],
   "source": []
  }
 ],
 "metadata": {
  "kernelspec": {
   "display_name": "Python 3 (ipykernel)",
   "language": "python",
   "name": "python3"
  },
  "language_info": {
   "codemirror_mode": {
    "name": "ipython",
    "version": 3
   },
   "file_extension": ".py",
   "mimetype": "text/x-python",
   "name": "python",
   "nbconvert_exporter": "python",
   "pygments_lexer": "ipython3",
   "version": "3.9.13"
  }
 },
 "nbformat": 4,
 "nbformat_minor": 5
}
