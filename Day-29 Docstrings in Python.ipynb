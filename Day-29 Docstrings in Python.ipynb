{
 "cells": [
  {
   "cell_type": "markdown",
   "id": "351773d1",
   "metadata": {},
   "source": [
    "# Docstrings in python\n",
    "Python docstrings are the string literals that appear right after the definition of a function, method, class, or module."
   ]
  },
  {
   "cell_type": "code",
   "execution_count": 3,
   "id": "cfac42aa",
   "metadata": {},
   "outputs": [
    {
     "name": "stdout",
     "output_type": "stream",
     "text": [
      "36\n",
      "Takes in a number n, returns the square of n\n"
     ]
    }
   ],
   "source": [
    "def square(n):\n",
    "    '''Takes in a number n, returns the square of n'''\n",
    "    print(n**2)\n",
    "square(6)\n",
    "print(square.__doc__)"
   ]
  },
  {
   "cell_type": "code",
   "execution_count": 6,
   "id": "6924dd47",
   "metadata": {},
   "outputs": [
    {
     "name": "stdout",
     "output_type": "stream",
     "text": [
      "\n",
      "    Add up two integer numbers.\n",
      "\n",
      "    This function simply wraps the ``+`` operator, and does not\n",
      "    do anything interesting, except for illustrating what\n",
      "    the docstring of a very simple function looks like.\n",
      "\n",
      "    Parameters\n",
      "    ----------\n",
      "    num1 : int\n",
      "        First number to add.\n",
      "    num2 : int\n",
      "        Second number to add.\n",
      "\n",
      "    Returns\n",
      "    -------\n",
      "    int\n",
      "        The sum of ``num1`` and ``num2``.\n",
      "\n",
      "    See Also\n",
      "    --------\n",
      "    subtract : Subtract one integer from another.\n",
      "\n",
      "    Examples\n",
      "    --------\n",
      "    >>> add(2, 2)\n",
      "    4\n",
      "    >>> add(25, 0)\n",
      "    25\n",
      "    >>> add(10, -10)\n",
      "    0\n",
      "    \n"
     ]
    }
   ],
   "source": [
    "def add(num1, num2):\n",
    "    \"\"\"\n",
    "    Add up two integer numbers.\n",
    "\n",
    "    This function simply wraps the ``+`` operator, and does not\n",
    "    do anything interesting, except for illustrating what\n",
    "    the docstring of a very simple function looks like.\n",
    "\n",
    "    Parameters\n",
    "    ----------\n",
    "    num1 : int\n",
    "        First number to add.\n",
    "    num2 : int\n",
    "        Second number to add.\n",
    "\n",
    "    Returns\n",
    "    -------\n",
    "    int\n",
    "        The sum of ``num1`` and ``num2``.\n",
    "\n",
    "    See Also\n",
    "    --------\n",
    "    subtract : Subtract one integer from another.\n",
    "\n",
    "    Examples\n",
    "    --------\n",
    "    >>> add(2, 2)\n",
    "    4\n",
    "    >>> add(25, 0)\n",
    "    25\n",
    "    >>> add(10, -10)\n",
    "    0\n",
    "    \"\"\"\n",
    "    return num1 + num2\n",
    "add(5,6)\n",
    "print(add.__doc__)"
   ]
  },
  {
   "cell_type": "markdown",
   "id": "01a83253",
   "metadata": {},
   "source": [
    "# Python Comments vs Docstrings\n",
    "Python Comments\n",
    "Comments are descriptions that help programmers better understand the intent and functionality of the program. They are completely ignored by the Python interpreter.\n",
    "\n",
    "Python docstrings\n",
    "As mentioned above, Python docstrings are strings used right after the definition of a function, method, class, or module (like in Example 1). They are used to document our code.\n",
    "\n",
    "We can access these docstrings using the doc attribute.\n",
    "\n",
    "Python doc attribute\n",
    "Whenever string literals are present just after the definition of a function, module, class or method, they are associated with the object as their doc attribute. We can later use this attribute to retrieve this docstring."
   ]
  },
  {
   "cell_type": "markdown",
   "id": "6e4f25bd",
   "metadata": {},
   "source": [
    "# PEP 8\n",
    "PEP 8 is a document that provides guidelines and best practices on how to write Python code. It was written in 2001 by Guido van Rossum, Barry Warsaw, and Nick Coghlan. The primary focus of PEP 8 is to improve the readability and consistency of Python code.\n",
    "\n",
    "PEP stands for Python Enhancement Proposal, and there are several of them. A PEP is a document that describes new features proposed for Python and documents aspects of Python, like design and style, for the community."
   ]
  },
  {
   "cell_type": "markdown",
   "id": "68d5f544",
   "metadata": {},
   "source": [
    "# The Zen of Python\n",
    "Long time Pythoneer Tim Peters succinctly channels the BDFL’s guiding principles for Python’s design into 20 aphorisms, only 19 of which have been written down."
   ]
  },
  {
   "cell_type": "raw",
   "id": "73e2d1d6",
   "metadata": {},
   "source": [
    "Explicit is better than implicit.\n",
    "Simple is better than complex.\n",
    "Complex is better than complicated.\n",
    "Flat is better than nested.\n",
    "Sparse is better than dense.\n",
    "Readability counts.\n",
    "Special cases aren't special enough to break the rules.\n",
    "Although practicality beats purity.\n",
    "Errors should never pass silently.\n",
    "Unless explicitly silenced.\n",
    "In the face of ambiguity, refuse the temptation to guess.\n",
    "There should be one-- and preferably only one --obvious way to do it.\n",
    "Although that way may not be obvious at first unless you're Dutch.\n",
    "Now is better than never.\n",
    "Although never is often better than *right* now.\n",
    "If the implementation is hard to explain, it's a bad idea.\n",
    "If the implementation is easy to explain, it may be a good idea.\n",
    "Namespaces are one honking great idea -- let's do more of those!"
   ]
  },
  {
   "cell_type": "code",
   "execution_count": 8,
   "id": "107aa879",
   "metadata": {},
   "outputs": [
    {
     "name": "stdout",
     "output_type": "stream",
     "text": [
      "The Zen of Python, by Tim Peters\n",
      "\n",
      "Beautiful is better than ugly.\n",
      "Explicit is better than implicit.\n",
      "Simple is better than complex.\n",
      "Complex is better than complicated.\n",
      "Flat is better than nested.\n",
      "Sparse is better than dense.\n",
      "Readability counts.\n",
      "Special cases aren't special enough to break the rules.\n",
      "Although practicality beats purity.\n",
      "Errors should never pass silently.\n",
      "Unless explicitly silenced.\n",
      "In the face of ambiguity, refuse the temptation to guess.\n",
      "There should be one-- and preferably only one --obvious way to do it.\n",
      "Although that way may not be obvious at first unless you're Dutch.\n",
      "Now is better than never.\n",
      "Although never is often better than *right* now.\n",
      "If the implementation is hard to explain, it's a bad idea.\n",
      "If the implementation is easy to explain, it may be a good idea.\n",
      "Namespaces are one honking great idea -- let's do more of those!\n"
     ]
    }
   ],
   "source": [
    "import this"
   ]
  }
 ],
 "metadata": {
  "kernelspec": {
   "display_name": "Python 3 (ipykernel)",
   "language": "python",
   "name": "python3"
  },
  "language_info": {
   "codemirror_mode": {
    "name": "ipython",
    "version": 3
   },
   "file_extension": ".py",
   "mimetype": "text/x-python",
   "name": "python",
   "nbconvert_exporter": "python",
   "pygments_lexer": "ipython3",
   "version": "3.9.13"
  }
 },
 "nbformat": 4,
 "nbformat_minor": 5
}
