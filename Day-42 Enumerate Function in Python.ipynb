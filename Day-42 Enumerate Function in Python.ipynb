{
 "cells": [
  {
   "cell_type": "code",
   "execution_count": 3,
   "id": "5fc843f1",
   "metadata": {},
   "outputs": [
    {
     "name": "stdout",
     "output_type": "stream",
     "text": [
      "12\n",
      "56\n",
      "43\n",
      "23\n",
      "awesome,ankit\n",
      "45\n",
      "54\n",
      "45\n",
      "23\n",
      "34\n",
      "23\n"
     ]
    }
   ],
   "source": [
    "a=[12,56,43,23,45,54,45,23,34,23]\n",
    "index=0\n",
    "for mark in a:\n",
    "    print(mark)\n",
    "    if (index == 3):\n",
    "        print(\"awesome,ankit\")\n",
    "    index += 1"
   ]
  },
  {
   "cell_type": "markdown",
   "id": "0ede78bb",
   "metadata": {},
   "source": [
    "# Enumerate function in python\n",
    "The enumerate function is a built-in function in Python that allows you to loop over a sequence (such as a list, tuple, or string) and get the index and value of each element in the sequence at the same time. Here's a basic example of how it works:"
   ]
  },
  {
   "cell_type": "code",
   "execution_count": 5,
   "id": "4d33e206",
   "metadata": {},
   "outputs": [
    {
     "name": "stdout",
     "output_type": "stream",
     "text": [
      "12\n",
      "56\n",
      "43\n",
      "23\n",
      "awesome,ankit\n",
      "45\n",
      "54\n",
      "45\n",
      "23\n",
      "34\n",
      "23\n"
     ]
    }
   ],
   "source": [
    "a=[12,56,43,23,45,54,45,23,34,23]\n",
    "\n",
    "for index,mark in enumerate(a):\n",
    "    print(mark)\n",
    "    if (index == 3):\n",
    "        print(\"awesome,ankit\")\n",
    "    index += 1"
   ]
  },
  {
   "cell_type": "code",
   "execution_count": 6,
   "id": "05f83145",
   "metadata": {},
   "outputs": [
    {
     "name": "stdout",
     "output_type": "stream",
     "text": [
      "0 apple\n",
      "1 banana\n",
      "2 mango\n"
     ]
    }
   ],
   "source": [
    "# Loop over a list and print the index and value of each element\n",
    "fruits = ['apple', 'banana', 'mango']\n",
    "for index, fruit in enumerate(fruits):\n",
    "    print(index, fruit)"
   ]
  },
  {
   "cell_type": "raw",
   "id": "f32ab87b",
   "metadata": {},
   "source": [
    "As you can see, the enumerate function returns a tuple containing the index and value of each element in the sequence. You can use the for loop to unpack these tuples and assign them to variables, as shown in the example above."
   ]
  },
  {
   "cell_type": "markdown",
   "id": "3723bbf7",
   "metadata": {},
   "source": [
    "# Changing the start index\n",
    "By default, the enumerate function starts the index at 0, but you can specify a different starting index by passing it as an argument to the enumerate function:"
   ]
  },
  {
   "cell_type": "code",
   "execution_count": 7,
   "id": "01342d86",
   "metadata": {},
   "outputs": [
    {
     "name": "stdout",
     "output_type": "stream",
     "text": [
      "1 apple\n",
      "2 banana\n",
      "3 mango\n"
     ]
    }
   ],
   "source": [
    "# Loop over a list and print the index (starting at 1) and value of each element\n",
    "fruits = ['apple', 'banana', 'mango']\n",
    "for index, fruit in enumerate(fruits, start=1):\n",
    "    print(index, fruit)"
   ]
  },
  {
   "cell_type": "code",
   "execution_count": 8,
   "id": "9f58646c",
   "metadata": {},
   "outputs": [
    {
     "name": "stdout",
     "output_type": "stream",
     "text": [
      "12\n",
      "56\n",
      "43\n",
      "awesome,ankit\n",
      "23\n",
      "45\n",
      "54\n",
      "45\n",
      "23\n",
      "34\n",
      "23\n"
     ]
    }
   ],
   "source": [
    "a=[12,56,43,23,45,54,45,23,34,23]\n",
    "\n",
    "for index,mark in enumerate(a,start=1):\n",
    "    print(mark)\n",
    "    if (index == 3):\n",
    "        print(\"awesome,ankit\")\n",
    "    index += 1"
   ]
  },
  {
   "cell_type": "raw",
   "id": "e24b8fe4",
   "metadata": {},
   "source": [
    "The enumerate function is often used when you need to loop over a sequence and perform some action with both the index and value of each element. For example, you might use it to loop over a list of strings and print the index and value of each string in a formatted way:"
   ]
  },
  {
   "cell_type": "code",
   "execution_count": 9,
   "id": "c3d6845a",
   "metadata": {},
   "outputs": [
    {
     "name": "stdout",
     "output_type": "stream",
     "text": [
      "1: apple\n",
      "2: banana\n",
      "3: mango\n"
     ]
    }
   ],
   "source": [
    "fruits = ['apple', 'banana', 'mango']\n",
    "for index, fruit in enumerate(fruits):\n",
    "    print(f'{index+1}: {fruit}')"
   ]
  },
  {
   "cell_type": "raw",
   "id": "3e2cae68",
   "metadata": {},
   "source": [
    "In addition to lists, you can use the enumerate function with any other sequence type in Python, such as tuples and strings. Here's an example with a tuple:"
   ]
  },
  {
   "cell_type": "code",
   "execution_count": 10,
   "id": "47b437d7",
   "metadata": {},
   "outputs": [
    {
     "name": "stdout",
     "output_type": "stream",
     "text": [
      "0 red\n",
      "1 green\n",
      "2 blue\n"
     ]
    }
   ],
   "source": [
    "# Loop over a tuple and print the index and value of each element\n",
    "colors = ('red', 'green', 'blue')\n",
    "for index, color in enumerate(colors):\n",
    "    print(index, color)"
   ]
  },
  {
   "cell_type": "code",
   "execution_count": 11,
   "id": "00649b6e",
   "metadata": {},
   "outputs": [
    {
     "name": "stdout",
     "output_type": "stream",
     "text": [
      "0 h\n",
      "1 e\n",
      "2 l\n",
      "3 l\n",
      "4 o\n"
     ]
    }
   ],
   "source": [
    "# Loop over a string and print the index and value of each character\n",
    "s = 'hello'\n",
    "for index, c in enumerate(s):\n",
    "    print(index, c)"
   ]
  },
  {
   "cell_type": "raw",
   "id": "e71bdc97",
   "metadata": {},
   "source": [
    "marks = [12, 56, 32, 98, 12,  45, 1, 4]\n",
    "\n",
    "# index = 0\n",
    "# for mark in marks:\n",
    "#   print(mark)\n",
    "#   if(index == 3):\n",
    "#     print(\"Harry, awesome!\")\n",
    "#   index +=1\n",
    "\n",
    "for index, mark in enumerate(marks, start=1):\n",
    "  print(mark)\n",
    "  if(index == 3):\n",
    "    print(\"Harry, awesome!\")"
   ]
  }
 ],
 "metadata": {
  "kernelspec": {
   "display_name": "Python 3 (ipykernel)",
   "language": "python",
   "name": "python3"
  },
  "language_info": {
   "codemirror_mode": {
    "name": "ipython",
    "version": 3
   },
   "file_extension": ".py",
   "mimetype": "text/x-python",
   "name": "python",
   "nbconvert_exporter": "python",
   "pygments_lexer": "ipython3",
   "version": "3.9.13"
  }
 },
 "nbformat": 4,
 "nbformat_minor": 5
}
