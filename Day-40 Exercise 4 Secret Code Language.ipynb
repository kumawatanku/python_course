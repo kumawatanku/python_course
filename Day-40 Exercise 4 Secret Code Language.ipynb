{
 "cells": [
  {
   "cell_type": "markdown",
   "id": "faac1e0f",
   "metadata": {},
   "source": [
    "# Write a python program to translate a message into secret code language. Use the rules below to translate normal English into secret code language"
   ]
  },
  {
   "cell_type": "raw",
   "id": "6d71289a",
   "metadata": {},
   "source": [
    "Coding:\n",
    "if the word contains atleast 3 characters, remove the first letter and append it at the end now append three random characters at the starting and the end else: simply reverse the string\n",
    "\n",
    "Decoding:\n",
    "if the word contains less than 3 characters, reverse it else: remove 3 random characters from start and end. Now remove the last letter and append it to the beginning\n",
    "\n",
    "Your program should ask whether you want to code or decode"
   ]
  },
  {
   "cell_type": "code",
   "execution_count": null,
   "id": "9d50a114",
   "metadata": {},
   "outputs": [],
   "source": []
  },
  {
   "cell_type": "code",
   "execution_count": null,
   "id": "ebb5cfa6",
   "metadata": {},
   "outputs": [],
   "source": []
  }
 ],
 "metadata": {
  "kernelspec": {
   "display_name": "Python 3 (ipykernel)",
   "language": "python",
   "name": "python3"
  },
  "language_info": {
   "codemirror_mode": {
    "name": "ipython",
    "version": 3
   },
   "file_extension": ".py",
   "mimetype": "text/x-python",
   "name": "python",
   "nbconvert_exporter": "python",
   "pygments_lexer": "ipython3",
   "version": "3.9.13"
  }
 },
 "nbformat": 4,
 "nbformat_minor": 5
}
