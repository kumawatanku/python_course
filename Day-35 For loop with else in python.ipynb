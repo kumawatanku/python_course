{
 "cells": [
  {
   "cell_type": "markdown",
   "id": "fa61ef91",
   "metadata": {},
   "source": [
    "# Python - else in Loop\n",
    "As you have learned before, the else clause is used along with the if statement.\n",
    "\n",
    "Python allows the else keyword to be used with the for and while loops too. The else block appears after the body of the loop. The statements in the else block will be executed after all iterations are completed. The program exits the loop only after the else block is executed."
   ]
  },
  {
   "cell_type": "code",
   "execution_count": 1,
   "id": "38cf375e",
   "metadata": {},
   "outputs": [
    {
     "name": "stdout",
     "output_type": "stream",
     "text": [
      "0\n",
      "1\n",
      "2\n",
      "3\n",
      "4\n",
      "sorry no i\n"
     ]
    }
   ],
   "source": [
    "for i in range(5):\n",
    "    print(i)\n",
    "else:\n",
    "    print(\"sorry no i\")"
   ]
  },
  {
   "cell_type": "code",
   "execution_count": 2,
   "id": "b3847995",
   "metadata": {},
   "outputs": [
    {
     "name": "stdout",
     "output_type": "stream",
     "text": [
      "0\n",
      "1\n",
      "2\n",
      "3\n",
      "4\n"
     ]
    }
   ],
   "source": [
    "for i in range(6):\n",
    "    print(i)\n",
    "    if i==4:\n",
    "        break\n",
    "        \n",
    "else:\n",
    "    print(\"sorry no i\")"
   ]
  },
  {
   "cell_type": "raw",
   "id": "1b3141e6",
   "metadata": {},
   "source": [
    "for counter in sequence:\n",
    "    #Statements inside for loop block\n",
    "else:\n",
    "    #Statements inside else block"
   ]
  },
  {
   "cell_type": "code",
   "execution_count": 3,
   "id": "72b5bac3",
   "metadata": {},
   "outputs": [
    {
     "name": "stdout",
     "output_type": "stream",
     "text": [
      "iteration no 1 in for loop\n",
      "iteration no 2 in for loop\n",
      "iteration no 3 in for loop\n",
      "iteration no 4 in for loop\n",
      "iteration no 5 in for loop\n",
      "else block in loop\n",
      "Out of loop\n"
     ]
    }
   ],
   "source": [
    "for x in range(5):\n",
    "    print (\"iteration no {} in for loop\".format(x+1))\n",
    "else:\n",
    "    print (\"else block in loop\")\n",
    "print (\"Out of loop\")"
   ]
  },
  {
   "cell_type": "code",
   "execution_count": 4,
   "id": "22c03c08",
   "metadata": {},
   "outputs": [
    {
     "name": "stdout",
     "output_type": "stream",
     "text": [
      "0\n",
      "1\n",
      "2\n",
      "3\n"
     ]
    }
   ],
   "source": [
    "i=0\n",
    "while i<7:\n",
    "    print(i)\n",
    "    i=i+1\n",
    "    if i==4:\n",
    "        break\n",
    "        \n",
    "else:\n",
    "    print(\"sorry no i\")\n",
    "    "
   ]
  },
  {
   "cell_type": "code",
   "execution_count": null,
   "id": "783e4382",
   "metadata": {},
   "outputs": [],
   "source": []
  },
  {
   "cell_type": "code",
   "execution_count": null,
   "id": "eedd561f",
   "metadata": {},
   "outputs": [],
   "source": []
  },
  {
   "cell_type": "code",
   "execution_count": null,
   "id": "dcd3e6e2",
   "metadata": {},
   "outputs": [],
   "source": []
  }
 ],
 "metadata": {
  "kernelspec": {
   "display_name": "Python 3 (ipykernel)",
   "language": "python",
   "name": "python3"
  },
  "language_info": {
   "codemirror_mode": {
    "name": "ipython",
    "version": 3
   },
   "file_extension": ".py",
   "mimetype": "text/x-python",
   "name": "python",
   "nbconvert_exporter": "python",
   "pygments_lexer": "ipython3",
   "version": "3.9.13"
  }
 },
 "nbformat": 4,
 "nbformat_minor": 5
}
