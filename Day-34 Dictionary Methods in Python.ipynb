{
 "cells": [
  {
   "cell_type": "markdown",
   "id": "98bb6bf5",
   "metadata": {},
   "source": [
    "# Dictionary Methods\n",
    "Dictionary uses several built-in methods for manipulation.They are listed below"
   ]
  },
  {
   "cell_type": "code",
   "execution_count": 2,
   "id": "becb1a81",
   "metadata": {},
   "outputs": [
    {
     "name": "stdout",
     "output_type": "stream",
     "text": [
      "{122: 45, 123: 89, 567: 69, 670: 69, 222: 67, 566: 90}\n",
      "{222: 67, 566: 90, 122: 45, 123: 89, 567: 69, 670: 69}\n"
     ]
    }
   ],
   "source": [
    "ep1={122:45,123:89,567:69,670:69}\n",
    "ep2={222:67,566:90}\n",
    "ep2.update(ep1)\n",
    "ep1.update(ep2)\n",
    "print(ep1)\n",
    "print(ep2)"
   ]
  },
  {
   "cell_type": "markdown",
   "id": "55775226",
   "metadata": {},
   "source": [
    "# update()\n",
    "The update() method updates the value of the key provided to it if the item already exists in the dictionary, else it creates a new key-value pair."
   ]
  },
  {
   "cell_type": "code",
   "execution_count": 3,
   "id": "af4b1c23",
   "metadata": {},
   "outputs": [
    {
     "name": "stdout",
     "output_type": "stream",
     "text": [
      "{'name': 'Karan', 'age': 19, 'eligible': True}\n",
      "{'name': 'Karan', 'age': 20, 'eligible': True, 'DOB': 2001}\n"
     ]
    }
   ],
   "source": [
    "info = {'name':'Karan', 'age':19, 'eligible':True}\n",
    "print(info)\n",
    "info.update({'age':20})\n",
    "info.update({'DOB':2001})\n",
    "print(info)"
   ]
  },
  {
   "cell_type": "markdown",
   "id": "5ba810a4",
   "metadata": {},
   "source": [
    "# Removing items from dictionary:\n",
    "There are a few methods that we can use to remove items from dictionary."
   ]
  },
  {
   "cell_type": "markdown",
   "id": "0471a72c",
   "metadata": {},
   "source": [
    "# clear():\n",
    "The clear() method removes all the items from the list."
   ]
  },
  {
   "cell_type": "code",
   "execution_count": 5,
   "id": "933faf68",
   "metadata": {},
   "outputs": [
    {
     "name": "stdout",
     "output_type": "stream",
     "text": [
      "{}\n",
      "<class 'dict'>\n"
     ]
    }
   ],
   "source": [
    "info = {'name':'Karan', 'age':19, 'eligible':True}\n",
    "info.clear()\n",
    "print(info)\n",
    "print(type(info))"
   ]
  },
  {
   "cell_type": "markdown",
   "id": "e8daceda",
   "metadata": {},
   "source": [
    "# pop():\n",
    "The pop() method removes the key-value pair whose key is passed as a parameter."
   ]
  },
  {
   "cell_type": "code",
   "execution_count": 6,
   "id": "15dec3a6",
   "metadata": {},
   "outputs": [
    {
     "name": "stdout",
     "output_type": "stream",
     "text": [
      "{'name': 'Karan', 'age': 19}\n"
     ]
    }
   ],
   "source": [
    "info = {'name':'Karan', 'age':19, 'eligible':True}\n",
    "info.pop('eligible')\n",
    "print(info)"
   ]
  },
  {
   "cell_type": "markdown",
   "id": "7e7be80a",
   "metadata": {},
   "source": [
    "# The popitem() method removes the last key-value pair from the dictionary."
   ]
  },
  {
   "cell_type": "code",
   "execution_count": 7,
   "id": "cde43cf0",
   "metadata": {},
   "outputs": [
    {
     "name": "stdout",
     "output_type": "stream",
     "text": [
      "{'name': 'Karan', 'age': 19, 'eligible': True}\n"
     ]
    }
   ],
   "source": [
    "info = {'name':'Karan', 'age':19, 'eligible':True, 'DOB':2003}\n",
    "info.popitem()\n",
    "print(info)"
   ]
  },
  {
   "cell_type": "markdown",
   "id": "5deee276",
   "metadata": {},
   "source": [
    "# del:\n",
    "we can also use the del keyword to remove a dictionary item"
   ]
  },
  {
   "cell_type": "code",
   "execution_count": 8,
   "id": "d1fb528c",
   "metadata": {},
   "outputs": [
    {
     "name": "stdout",
     "output_type": "stream",
     "text": [
      "{'name': 'Karan', 'eligible': True, 'DOB': 2003}\n"
     ]
    }
   ],
   "source": [
    "info = {'name':'Karan', 'age':19, 'eligible':True, 'DOB':2003}\n",
    "del info['age']\n",
    "print(info)"
   ]
  },
  {
   "cell_type": "code",
   "execution_count": 9,
   "id": "ca2b5ba0",
   "metadata": {},
   "outputs": [
    {
     "ename": "NameError",
     "evalue": "name 'info' is not defined",
     "output_type": "error",
     "traceback": [
      "\u001b[1;31m---------------------------------------------------------------------------\u001b[0m",
      "\u001b[1;31mNameError\u001b[0m                                 Traceback (most recent call last)",
      "\u001b[1;32m~\\AppData\\Local\\Temp\\ipykernel_19448\\1597256474.py\u001b[0m in \u001b[0;36m<module>\u001b[1;34m\u001b[0m\n\u001b[0;32m      1\u001b[0m \u001b[0minfo\u001b[0m \u001b[1;33m=\u001b[0m \u001b[1;33m{\u001b[0m\u001b[1;34m'name'\u001b[0m\u001b[1;33m:\u001b[0m\u001b[1;34m'Karan'\u001b[0m\u001b[1;33m,\u001b[0m \u001b[1;34m'age'\u001b[0m\u001b[1;33m:\u001b[0m\u001b[1;36m19\u001b[0m\u001b[1;33m,\u001b[0m \u001b[1;34m'eligible'\u001b[0m\u001b[1;33m:\u001b[0m\u001b[1;32mTrue\u001b[0m\u001b[1;33m,\u001b[0m \u001b[1;34m'DOB'\u001b[0m\u001b[1;33m:\u001b[0m\u001b[1;36m2003\u001b[0m\u001b[1;33m}\u001b[0m\u001b[1;33m\u001b[0m\u001b[1;33m\u001b[0m\u001b[0m\n\u001b[0;32m      2\u001b[0m \u001b[1;32mdel\u001b[0m \u001b[0minfo\u001b[0m\u001b[1;33m\u001b[0m\u001b[1;33m\u001b[0m\u001b[0m\n\u001b[1;32m----> 3\u001b[1;33m \u001b[0mprint\u001b[0m\u001b[1;33m(\u001b[0m\u001b[0minfo\u001b[0m\u001b[1;33m)\u001b[0m\u001b[1;33m\u001b[0m\u001b[1;33m\u001b[0m\u001b[0m\n\u001b[0m",
      "\u001b[1;31mNameError\u001b[0m: name 'info' is not defined"
     ]
    }
   ],
   "source": [
    "info = {'name':'Karan', 'age':19, 'eligible':True, 'DOB':2003}\n",
    "del info\n",
    "print(info)"
   ]
  },
  {
   "cell_type": "raw",
   "id": "01f10211",
   "metadata": {},
   "source": [
    "ep1 = {122: 45, 123: 89, 567: 69, 670: 69}\n",
    "ep2 = {222: 67, 566: 90}\n",
    "\n",
    "# ep1.update(ep2)\n",
    "# ep1.clear()\n",
    "# ep1.pop(122)\n",
    "ep1.popitem()\n",
    "del ep1[122]\n",
    "print(ep1) "
   ]
  },
  {
   "cell_type": "code",
   "execution_count": null,
   "id": "8a4e88e3",
   "metadata": {},
   "outputs": [],
   "source": []
  }
 ],
 "metadata": {
  "kernelspec": {
   "display_name": "Python 3 (ipykernel)",
   "language": "python",
   "name": "python3"
  },
  "language_info": {
   "codemirror_mode": {
    "name": "ipython",
    "version": 3
   },
   "file_extension": ".py",
   "mimetype": "text/x-python",
   "name": "python",
   "nbconvert_exporter": "python",
   "pygments_lexer": "ipython3",
   "version": "3.9.13"
  }
 },
 "nbformat": 4,
 "nbformat_minor": 5
}
